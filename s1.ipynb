{
  "nbformat": 4,
  "nbformat_minor": 0,
  "metadata": {
    "colab": {
      "name": "s1.ipynb",
      "provenance": [],
      "mount_file_id": "1-T2xzEolvx0vG7d6Bc1yLGNJG_waxizE",
      "authorship_tag": "ABX9TyNEUA13yjrD9ktSjVVPn8WR",
      "include_colab_link": true
    },
    "kernelspec": {
      "name": "python3",
      "display_name": "Python 3"
    },
    "language_info": {
      "name": "python"
    }
  },
  "cells": [
    {
      "cell_type": "markdown",
      "metadata": {
        "id": "view-in-github",
        "colab_type": "text"
      },
      "source": [
        "<a href=\"https://colab.research.google.com/github/Namrata-cse/Wrappermethodsin-FS/blob/main/s1.ipynb\" target=\"_parent\"><img src=\"https://colab.research.google.com/assets/colab-badge.svg\" alt=\"Open In Colab\"/></a>"
      ]
    },
    {
      "cell_type": "code",
      "execution_count": 1,
      "metadata": {
        "colab": {
          "base_uri": "https://localhost:8080/"
        },
        "id": "67atL2RhNsv0",
        "outputId": "bb2ac36b-dff9-4282-8d31-8aff1eb9b583"
      },
      "outputs": [
        {
          "output_type": "stream",
          "name": "stdout",
          "text": [
            "Requirement already satisfied: numpy in /usr/local/lib/python3.7/dist-packages (1.21.6)\n",
            "Requirement already satisfied: sklearn in /usr/local/lib/python3.7/dist-packages (0.0)\n",
            "Requirement already satisfied: scikit-learn in /usr/local/lib/python3.7/dist-packages (from sklearn) (1.0.2)\n",
            "Requirement already satisfied: scipy>=1.1.0 in /usr/local/lib/python3.7/dist-packages (from scikit-learn->sklearn) (1.4.1)\n",
            "Requirement already satisfied: threadpoolctl>=2.0.0 in /usr/local/lib/python3.7/dist-packages (from scikit-learn->sklearn) (3.1.0)\n",
            "Requirement already satisfied: joblib>=0.11 in /usr/local/lib/python3.7/dist-packages (from scikit-learn->sklearn) (1.1.0)\n",
            "Requirement already satisfied: numpy>=1.14.6 in /usr/local/lib/python3.7/dist-packages (from scikit-learn->sklearn) (1.21.6)\n",
            "Requirement already satisfied: matplotlib in /usr/local/lib/python3.7/dist-packages (3.2.2)\n",
            "Requirement already satisfied: pyparsing!=2.0.4,!=2.1.2,!=2.1.6,>=2.0.1 in /usr/local/lib/python3.7/dist-packages (from matplotlib) (3.0.8)\n",
            "Requirement already satisfied: python-dateutil>=2.1 in /usr/local/lib/python3.7/dist-packages (from matplotlib) (2.8.2)\n",
            "Requirement already satisfied: cycler>=0.10 in /usr/local/lib/python3.7/dist-packages (from matplotlib) (0.11.0)\n",
            "Requirement already satisfied: numpy>=1.11 in /usr/local/lib/python3.7/dist-packages (from matplotlib) (1.21.6)\n",
            "Requirement already satisfied: kiwisolver>=1.0.1 in /usr/local/lib/python3.7/dist-packages (from matplotlib) (1.4.2)\n",
            "Requirement already satisfied: typing-extensions in /usr/local/lib/python3.7/dist-packages (from kiwisolver>=1.0.1->matplotlib) (4.1.1)\n",
            "Requirement already satisfied: six>=1.5 in /usr/local/lib/python3.7/dist-packages (from python-dateutil>=2.1->matplotlib) (1.15.0)\n",
            "Collecting ReliefF\n",
            "  Downloading ReliefF-0.1.2.tar.gz (48 kB)\n",
            "\u001b[K     |████████████████████████████████| 48 kB 3.6 MB/s \n",
            "\u001b[?25hRequirement already satisfied: numpy in /usr/local/lib/python3.7/dist-packages (from ReliefF) (1.21.6)\n",
            "Requirement already satisfied: scipy in /usr/local/lib/python3.7/dist-packages (from ReliefF) (1.4.1)\n",
            "Requirement already satisfied: scikit-learn in /usr/local/lib/python3.7/dist-packages (from ReliefF) (1.0.2)\n",
            "Requirement already satisfied: threadpoolctl>=2.0.0 in /usr/local/lib/python3.7/dist-packages (from scikit-learn->ReliefF) (3.1.0)\n",
            "Requirement already satisfied: joblib>=0.11 in /usr/local/lib/python3.7/dist-packages (from scikit-learn->ReliefF) (1.1.0)\n",
            "Building wheels for collected packages: ReliefF\n",
            "  Building wheel for ReliefF (setup.py) ... \u001b[?25l\u001b[?25hdone\n",
            "  Created wheel for ReliefF: filename=ReliefF-0.1.2-py3-none-any.whl size=6319 sha256=d3eecf31fe66171a146869b6505d6a204e3432e9ebb48062d2e41cb7efeca389\n",
            "  Stored in directory: /root/.cache/pip/wheels/18/8a/4a/3aada56cb869df4c1b1ed6af509c941a25985d1d1258a2e78c\n",
            "Successfully built ReliefF\n",
            "Installing collected packages: ReliefF\n",
            "Successfully installed ReliefF-0.1.2\n",
            "Collecting Py_FS\n",
            "  Downloading Py_FS-0.0.44-py3-none-any.whl (9.5 MB)\n",
            "\u001b[K     |████████████████████████████████| 9.5 MB 7.4 MB/s \n",
            "\u001b[?25hInstalling collected packages: Py-FS\n",
            "Successfully installed Py-FS-0.0.44\n"
          ]
        }
      ],
      "source": [
        "!pip install numpy\n",
        "!pip install sklearn\n",
        "!pip install matplotlib\n",
        "!pip install ReliefF\n",
        "!pip install -U Py_FS"
      ]
    },
    {
      "cell_type": "code",
      "source": [
        "from sklearn.model_selection import train_test_split\n",
        "import numpy as np"
      ],
      "metadata": {
        "id": "zc0QoLYLZokK"
      },
      "execution_count": 2,
      "outputs": []
    },
    {
      "cell_type": "code",
      "source": [
        "!pip install antropy\n",
        "import pickle, copy\n",
        "import numpy as np\n",
        "import antropy as ent\n",
        "\n",
        "\n",
        "import pandas as pd\n",
        "from sklearn.utils import shuffle\n",
        "from sklearn.model_selection import cross_val_score, train_test_split\n"
      ],
      "metadata": {
        "colab": {
          "base_uri": "https://localhost:8080/"
        },
        "id": "GN8OaeyoZq_-",
        "outputId": "2cb69a88-881c-489e-afb4-38a4738ea3f9"
      },
      "execution_count": 3,
      "outputs": [
        {
          "output_type": "stream",
          "name": "stdout",
          "text": [
            "Collecting antropy\n",
            "  Downloading antropy-0.1.4.tar.gz (16 kB)\n",
            "Collecting stochastic\n",
            "  Downloading stochastic-0.6.0-py3-none-any.whl (49 kB)\n",
            "\u001b[K     |████████████████████████████████| 49 kB 4.1 MB/s \n",
            "\u001b[?25hRequirement already satisfied: numpy<2.0,>=1.17 in /usr/local/lib/python3.7/dist-packages (from stochastic->antropy) (1.21.6)\n",
            "Requirement already satisfied: scipy<2.0,>=1.3 in /usr/local/lib/python3.7/dist-packages (from stochastic->antropy) (1.4.1)\n",
            "Building wheels for collected packages: antropy\n",
            "  Building wheel for antropy (setup.py) ... \u001b[?25l\u001b[?25hdone\n",
            "  Created wheel for antropy: filename=antropy-0.1.4-py3-none-any.whl size=16159 sha256=544135e5160bdd39638031f3daef285ecce258b51338528571225c569195a3da\n",
            "  Stored in directory: /root/.cache/pip/wheels/d4/cc/6b/28fa7036bdabc6f1f92fd6a108ae259dbb48f107f676d6b491\n",
            "Successfully built antropy\n",
            "Installing collected packages: stochastic, antropy\n",
            "Successfully installed antropy-0.1.4 stochastic-0.6.0\n"
          ]
        }
      ]
    },
    {
      "cell_type": "code",
      "source": [
        "deap_dataset_path = \"/content/s01.dat\"\n",
        "subject_names = ['s01', 's02', 's03', 's04', 's05', 's06', 's07', 's08', 's09', 's10', 's11', 's12', \n",
        "                 's13', 's14', 's15', 's16', 's17', 's18', 's19', 's20', 's21',\n",
        "                 's22', 's23', 's24', 's25', 's26', 's27', 's28', 's29', 's30', 's31', 's32']\n"
      ],
      "metadata": {
        "id": "q18gXuGTajfi"
      },
      "execution_count": 16,
      "outputs": []
    },
    {
      "cell_type": "code",
      "source": [
        "with open ('/content/s01.dat','rb')as f:\n",
        "    raw_data=pickle.load(f , encoding='latin1')"
      ],
      "metadata": {
        "id": "pxZy6Jp2at8e"
      },
      "execution_count": 17,
      "outputs": []
    },
    {
      "cell_type": "code",
      "source": [
        " # raw_data has two key 'data' and 'labels'\n",
        "data = raw_data['data']\n",
        "labels = raw_data['labels']"
      ],
      "metadata": {
        "id": "SqnZ3gXyfrEz"
      },
      "execution_count": 19,
      "outputs": []
    },
    {
      "cell_type": "code",
      "source": [
        "print(data)"
      ],
      "metadata": {
        "colab": {
          "base_uri": "https://localhost:8080/"
        },
        "id": "cIWCRwmdf7Q0",
        "outputId": "7488439a-0aa3-4a68-8863-3f91857c6b98"
      },
      "execution_count": 21,
      "outputs": [
        {
          "output_type": "stream",
          "name": "stdout",
          "text": [
            "[[[ 9.48231681e-01  1.65333533e+00  3.01372577e+00 ... -2.82648937e+00\n",
            "   -4.47722969e+00 -3.67692812e+00]\n",
            "  [ 1.24706590e-01  1.39008270e+00  1.83509881e+00 ... -2.98702069e+00\n",
            "   -6.28780884e+00 -4.47429041e+00]\n",
            "  [-2.21651099e+00  2.29201682e+00  2.74636923e+00 ... -2.63707760e+00\n",
            "   -7.40651010e+00 -6.75590441e+00]\n",
            "  ...\n",
            "  [ 2.30779684e+02  6.96716323e+02  1.19512165e+03 ...  1.01080949e+03\n",
            "    1.28312149e+03  1.51996480e+03]\n",
            "  [-1.54180981e+03 -1.61798052e+03 -1.69268642e+03 ... -1.57842691e+04\n",
            "   -1.57823160e+04 -1.57808512e+04]\n",
            "  [ 6.39054310e-03  6.39054310e-03  6.39054310e-03 ... -9.76081241e-02\n",
            "   -9.76081241e-02 -9.76081241e-02]]\n",
            "\n",
            " [[ 1.02601750e+01  1.27954427e+01  1.04261916e+01 ...  6.02219406e+00\n",
            "    7.53913583e+00  9.35224904e+00]\n",
            "  [ 9.49186875e+00  1.25897704e+01  1.05740268e+01 ...  6.03399490e+00\n",
            "    9.06874552e+00  8.74021419e+00]\n",
            "  [ 7.12867480e+00  1.22064700e+01  9.49646701e+00 ...  6.17971667e+00\n",
            "    6.93374514e+00  6.48086477e+00]\n",
            "  ...\n",
            "  [ 1.91950410e+03  3.51250116e+03  3.67262586e+03 ... -1.62148301e+02\n",
            "   -3.66241674e+02 -4.51866515e+02]\n",
            "  [-7.42916132e+03 -7.50972650e+03 -7.57076073e+03 ... -5.49462041e+03\n",
            "   -5.59081036e+03 -5.69139477e+03]\n",
            "  [ 5.98429831e-03  5.98429831e-03  5.98429831e-03 ... -6.20148303e-02\n",
            "   -6.20148303e-02 -6.20148303e-02]]\n",
            "\n",
            " [[ 1.01304956e+00 -1.06783230e+00  3.90824949e+00 ...  2.18687657e+00\n",
            "    2.66767712e-02 -7.51193325e+00]\n",
            "  [ 3.31725539e-02 -1.51860504e+00  4.81957628e+00 ...  3.98227619e-01\n",
            "   -1.06766739e+00 -5.90302866e+00]\n",
            "  [ 7.22816236e-01  5.12160665e-01  8.04440282e+00 ...  9.66963103e-02\n",
            "    2.20454025e-01 -4.36041903e+00]\n",
            "  ...\n",
            "  [-2.14800222e+01 -2.61792078e+02 -1.01386125e+02 ...  2.58992140e+03\n",
            "    1.61176696e+03  7.66674772e+02]\n",
            "  [ 1.16210735e+04  1.14355295e+04  1.12646336e+04 ...  2.76134490e+03\n",
            "    2.67687353e+03  2.60314418e+03]\n",
            "  [ 2.90621276e-03  2.90621276e-03  2.90621276e-03 ... -1.51091814e-01\n",
            "   -1.51091814e-01 -1.51091814e-01]]\n",
            "\n",
            " ...\n",
            "\n",
            " [[-1.13944132e+01 -1.34502274e+01 -9.66299865e+00 ... -2.43900889e+00\n",
            "   -2.33095827e+00 -3.36814485e+00]\n",
            "  [-9.19759768e+00 -1.04656392e+01 -6.56847604e+00 ... -3.51219647e+00\n",
            "   -2.91042815e+00 -2.82260677e+00]\n",
            "  [-8.61617511e+00 -1.00405069e+01 -6.40832041e+00 ... -4.15937090e+00\n",
            "   -4.30358260e+00 -2.69228055e+00]\n",
            "  ...\n",
            "  [ 1.33536977e+03  1.18468254e+03  9.23995526e+02 ...  9.61057957e+02\n",
            "    5.48652469e+02  1.16462008e+03]\n",
            "  [-3.84721885e+03 -3.90385861e+03 -3.96391629e+03 ...  2.21035586e+04\n",
            "    2.19683067e+04  2.18359845e+04]\n",
            "  [ 1.74997757e-03  1.74997757e-03  1.74997757e-03 ...  4.67494009e-02\n",
            "    4.67494009e-02  4.67494009e-02]]\n",
            "\n",
            " [[ 2.53187763e+00  1.58111089e-01 -4.67449746e+00 ...  3.13209243e+00\n",
            "    4.65647663e-01  1.85004049e+00]\n",
            "  [ 6.21303506e+00  1.60022210e+00 -4.68115214e+00 ...  3.09468204e+00\n",
            "   -4.47081977e-01  7.07338119e-01]\n",
            "  [ 7.13694330e+00  4.83688756e+00 -2.90448250e+00 ...  8.47561300e-02\n",
            "   -7.15406930e-02 -8.34269599e-01]\n",
            "  ...\n",
            "  [-1.72646702e+03 -1.77037319e+03 -1.74206075e+03 ... -1.37621767e+03\n",
            "   -1.46368626e+03 -1.39456139e+03]\n",
            "  [ 7.78738138e+03  7.87087621e+03  7.88894234e+03 ...  1.77575401e+03\n",
            "    1.77087127e+03  1.76891817e+03]\n",
            "  [ 1.30206665e-03  2.30205383e-03  2.30205383e-03 ... -1.06977796e-02\n",
            "   -1.06977796e-02 -1.06977796e-02]]\n",
            "\n",
            " [[ 3.08300605e+00  6.27214597e-01 -3.40256017e+00 ... -4.43802092e+00\n",
            "   -3.27103236e+00  2.13500861e+00]\n",
            "  [-2.73052705e-01 -2.20023500e-01 -3.81054293e+00 ... -3.75791147e+00\n",
            "   -3.31224301e+00  1.15426073e+00]\n",
            "  [-1.72910530e+00  1.73630179e+00 -1.14991197e-01 ... -2.94468621e+00\n",
            "   -5.71142735e+00 -1.69792350e+00]\n",
            "  ...\n",
            "  [-1.17067329e+02  2.14775808e+02  6.61994220e+00 ... -1.10328426e+03\n",
            "   -1.11556548e+03 -1.07090932e+03]\n",
            "  [-7.16243920e+03 -7.22005551e+03 -7.17659914e+03 ...  4.80999311e+02\n",
            "    3.31587520e+02  1.82175728e+02]\n",
            "  [ 4.24473727e-04  4.24473727e-04  4.24473727e-04 ...  1.86422090e-01\n",
            "    1.86422090e-01  1.86422090e-01]]]\n"
          ]
        }
      ]
    },
    {
      "cell_type": "code",
      "source": [
        "reduced_eeg_data  = data[0:40, 0:32, 384:8064]\n",
        "reduced_eeg_data.shape\n"
      ],
      "metadata": {
        "colab": {
          "base_uri": "https://localhost:8080/"
        },
        "id": "dAbAKoJwfzfY",
        "outputId": "1fe8a1b1-d2c7-4b9c-9247-f389ccdc00d1"
      },
      "execution_count": 20,
      "outputs": [
        {
          "output_type": "execute_result",
          "data": {
            "text/plain": [
              "(40, 32, 7680)"
            ]
          },
          "metadata": {},
          "execution_count": 20
        }
      ]
    },
    {
      "cell_type": "code",
      "source": [
        "print(reduced_eeg_data.shape)"
      ],
      "metadata": {
        "colab": {
          "base_uri": "https://localhost:8080/"
        },
        "id": "yFbl5uc6f29J",
        "outputId": "239ece2d-3b4c-4963-de71-add3873dc770"
      },
      "execution_count": 22,
      "outputs": [
        {
          "output_type": "stream",
          "name": "stdout",
          "text": [
            "(40, 32, 7680)\n"
          ]
        }
      ]
    },
    {
      "cell_type": "code",
      "source": [
        "print(labels.shape)"
      ],
      "metadata": {
        "colab": {
          "base_uri": "https://localhost:8080/"
        },
        "id": "cAY6NT_WgGUz",
        "outputId": "2b482d9c-fd5a-497a-cccb-e2ce02796c14"
      },
      "execution_count": 23,
      "outputs": [
        {
          "output_type": "stream",
          "name": "stdout",
          "text": [
            "(40, 4)\n"
          ]
        }
      ]
    },
    {
      "cell_type": "code",
      "source": [
        "type(data)"
      ],
      "metadata": {
        "colab": {
          "base_uri": "https://localhost:8080/"
        },
        "id": "TbsbEyC5gIg8",
        "outputId": "162a1532-d650-4391-9f7e-d4e9856ac6c4"
      },
      "execution_count": 24,
      "outputs": [
        {
          "output_type": "execute_result",
          "data": {
            "text/plain": [
              "numpy.ndarray"
            ]
          },
          "metadata": {},
          "execution_count": 24
        }
      ]
    },
    {
      "cell_type": "code",
      "source": [
        "type(labels)"
      ],
      "metadata": {
        "colab": {
          "base_uri": "https://localhost:8080/"
        },
        "id": "csQH1hWrgaul",
        "outputId": "4ef4175c-72dd-4f17-f1e9-0ee4f9f96888"
      },
      "execution_count": 25,
      "outputs": [
        {
          "output_type": "execute_result",
          "data": {
            "text/plain": [
              "numpy.ndarray"
            ]
          },
          "metadata": {},
          "execution_count": 25
        }
      ]
    },
    {
      "cell_type": "code",
      "source": [
        "print(labels)"
      ],
      "metadata": {
        "id": "zVRkiXhRiWry"
      },
      "execution_count": null,
      "outputs": []
    },
    {
      "cell_type": "code",
      "source": [
        "print(data[0].shape)"
      ],
      "metadata": {
        "colab": {
          "base_uri": "https://localhost:8080/"
        },
        "id": "9BdGZX4lgcXJ",
        "outputId": "6facd2dd-4cf9-4055-da1d-796ce3ff4367"
      },
      "execution_count": 26,
      "outputs": [
        {
          "output_type": "stream",
          "name": "stdout",
          "text": [
            "(40, 8064)\n"
          ]
        }
      ]
    },
    {
      "cell_type": "code",
      "source": [
        "print(reduced_eeg_data[0].shape)"
      ],
      "metadata": {
        "colab": {
          "base_uri": "https://localhost:8080/"
        },
        "id": "OFddpKALhIFz",
        "outputId": "a9085286-f515-4a0d-fe28-063ee728453e"
      },
      "execution_count": 27,
      "outputs": [
        {
          "output_type": "stream",
          "name": "stdout",
          "text": [
            "(32, 7680)\n"
          ]
        }
      ]
    },
    {
      "cell_type": "code",
      "source": [
        "def petrosian_fd(data, axis=-1):\n",
        "    # Petrosian fractal dimension\n",
        "    x = np.asarray(data)\n",
        "    N = x.shape[axis]\n",
        "    nzc_deriv = ent.num_zerocross(np.diff(x, axis=axis), axis=axis) # Number of sign changes in the first derivative of the signal\n",
        "    pfd = np.log10(N) / (np.log10(N) + np.log10(N / (N + 0.4 * nzc_deriv)))\n",
        "    return pfd"
      ],
      "metadata": {
        "id": "d67RIcmWi_6b"
      },
      "execution_count": 32,
      "outputs": []
    },
    {
      "cell_type": "code",
      "source": [
        "window = 4 # fix window size\n",
        "pfd_features = []\n",
        "for video_no in range(0, 40):\n",
        "    for channel_no in range(0, 32):\n",
        "        input_data = reduced_eeg_data[video_no][channel_no]\n",
        "        no_data_in_each_window = int(input_data.shape[0]/4)\n",
        "        for i in range(window):\n",
        "            pfd = petrosian_fd(input_data[i*window: window*(i+1)])\n",
        "            pfd_features.append(pfd)"
      ],
      "metadata": {
        "id": "SgqdytSSjaTk"
      },
      "execution_count": 33,
      "outputs": []
    },
    {
      "cell_type": "code",
      "source": [
        "def emotion_label(labels, class_label):\n",
        "    em_labels = []\n",
        "    if(class_label == 'valence'):\n",
        "        for i in range(0, labels.shape[0]):\n",
        "            if (labels[i][0]>5): # high valence\n",
        "                em_labels.append(1)\n",
        "            else: # low valence\n",
        "                em_labels.append(0)\n",
        "        return em_labels\n",
        "    elif(class_label == 'arousal'):\n",
        "        for i in range(0, labels.shape[0]):\n",
        "            if (labels[i][1]>5): # high arousal\n",
        "                em_labels.append(1)\n",
        "            else: # low arousal\n",
        "                em_labels.append(0)\n",
        "        return em_labels\n",
        "    elif(class_label == 'all'):\n",
        "        for i in range(0, labels.shape[0]):\n",
        "            if (labels[i][0]>5): # high valence\n",
        "                if(labels[i][1]>5): # high arousal\n",
        "                    em_labels.append(1) # HVHA\n",
        "                else:\n",
        "                    em_labels.append(0) # HVLA\n",
        "            else: # low valence\n",
        "                if(labels[i][1]>5): # high arousal\n",
        "                    em_labels.append(2) # LVHA\n",
        "                else: # low arousal\n",
        "                    em_labels.append(3) # LVLA\n",
        "        return em_labels"
      ],
      "metadata": {
        "id": "5-B8mCiKjep5"
      },
      "execution_count": 34,
      "outputs": []
    },
    {
      "cell_type": "code",
      "source": [
        "# # Method-2\n",
        "\n",
        "pfd_m2 = np.array(pfd_features)\n",
        "pfd_m2 = np.reshape(pfd_m2, (160, 32))\n",
        "print(pfd_m2.shape)\n",
        "valence_label2 = emotion_label(labels, \"valence\")\n",
        "x = pfd_m2\n",
        "y = []\n",
        "for i in range(len(valence_label2)):\n",
        "    for j in range(window):\n",
        "        y.append(valence_label2[i])\n",
        "y = np.array(y)\n",
        "valence_label2 = y\n"
      ],
      "metadata": {
        "colab": {
          "base_uri": "https://localhost:8080/"
        },
        "id": "Dm7Oc3qLjevl",
        "outputId": "43340b75-1945-4754-d0c8-8a25e18c1d70"
      },
      "execution_count": 35,
      "outputs": [
        {
          "output_type": "stream",
          "name": "stdout",
          "text": [
            "(160, 32)\n"
          ]
        }
      ]
    },
    {
      "cell_type": "code",
      "source": [
        "columns_name2 = []\n",
        "for i in range(32):\n",
        "    columns_name2.append('ch' + str(i))\n",
        "\n",
        "\n",
        "df2 = pd.DataFrame(pfd_m2, columns = columns_name2)\n",
        "\n",
        "\n",
        "tot_features = len(df2.columns)-1\n",
        "total_features = tot_features\n",
        "x = df2\n",
        "x, y = shuffle(x, valence_label2 , random_state = 40)\n",
        "x_train, x_test, y_train, y_test = train_test_split(x, y, test_size = 0.2, stratify = y)\n"
      ],
      "metadata": {
        "id": "ZImD-W9UkEGD"
      },
      "execution_count": 36,
      "outputs": []
    },
    {
      "cell_type": "code",
      "source": [
        "print(pfd_m2)"
      ],
      "metadata": {
        "colab": {
          "base_uri": "https://localhost:8080/"
        },
        "id": "IvAawImekLKY",
        "outputId": "0450ac03-7354-4a11-de04-8c325a7d3414"
      },
      "execution_count": 37,
      "outputs": [
        {
          "output_type": "stream",
          "name": "stdout",
          "text": [
            "[[1.         1.         1.         ... 1.07382753 1.15143328 1.07382753]\n",
            " [1.         1.         1.         ... 1.07382753 1.07382753 1.07382753]\n",
            " [1.         1.         1.         ... 1.15143328 1.         1.        ]\n",
            " ...\n",
            " [1.07382753 1.07382753 1.         ... 1.07382753 1.07382753 1.07382753]\n",
            " [1.07382753 1.07382753 1.         ... 1.15143328 1.15143328 1.07382753]\n",
            " [1.         1.         1.         ... 1.         1.         1.07382753]]\n"
          ]
        }
      ]
    },
    {
      "cell_type": "code",
      "source": [
        "print(x_train)"
      ],
      "metadata": {
        "colab": {
          "base_uri": "https://localhost:8080/"
        },
        "id": "OpGMCg_fkQp7",
        "outputId": "55c41a48-de24-4c90-d051-ea706294fd6e"
      },
      "execution_count": 38,
      "outputs": [
        {
          "output_type": "stream",
          "name": "stdout",
          "text": [
            "          ch0       ch1       ch2       ch3       ch4       ch5       ch6  \\\n",
            "112  1.073828  1.073828  1.000000  1.073828  1.073828  1.073828  1.073828   \n",
            "99   1.000000  1.073828  1.000000  1.073828  1.000000  1.073828  1.073828   \n",
            "156  1.073828  1.073828  1.073828  1.151433  1.073828  1.073828  1.073828   \n",
            "9    1.000000  1.073828  1.000000  1.073828  1.000000  1.073828  1.073828   \n",
            "31   1.073828  1.000000  1.000000  1.073828  1.073828  1.000000  1.000000   \n",
            "..        ...       ...       ...       ...       ...       ...       ...   \n",
            "80   1.000000  1.073828  1.073828  1.073828  1.073828  1.073828  1.073828   \n",
            "145  1.000000  1.000000  1.000000  1.000000  1.151433  1.000000  1.000000   \n",
            "16   1.000000  1.073828  1.151433  1.000000  1.000000  1.073828  1.151433   \n",
            "110  1.073828  1.000000  1.000000  1.000000  1.073828  1.000000  1.000000   \n",
            "119  1.073828  1.000000  1.000000  1.000000  1.000000  1.000000  1.151433   \n",
            "\n",
            "          ch7       ch8       ch9  ...      ch22      ch23      ch24  \\\n",
            "112  1.073828  1.073828  1.073828  ...  1.073828  1.151433  1.073828   \n",
            "99   1.000000  1.000000  1.073828  ...  1.151433  1.073828  1.151433   \n",
            "156  1.073828  1.073828  1.000000  ...  1.073828  1.073828  1.073828   \n",
            "9    1.073828  1.000000  1.073828  ...  1.000000  1.073828  1.073828   \n",
            "31   1.073828  1.073828  1.073828  ...  1.000000  1.000000  1.000000   \n",
            "..        ...       ...       ...  ...       ...       ...       ...   \n",
            "80   1.073828  1.073828  1.073828  ...  1.073828  1.073828  1.073828   \n",
            "145  1.000000  1.000000  1.000000  ...  1.073828  1.000000  1.000000   \n",
            "16   1.073828  1.000000  1.073828  ...  1.073828  1.000000  1.151433   \n",
            "110  1.000000  1.073828  1.000000  ...  1.073828  1.000000  1.073828   \n",
            "119  1.073828  1.073828  1.000000  ...  1.000000  1.000000  1.000000   \n",
            "\n",
            "         ch25      ch26      ch27      ch28      ch29      ch30      ch31  \n",
            "112  1.000000  1.073828  1.073828  1.073828  1.073828  1.073828  1.073828  \n",
            "99   1.073828  1.151433  1.151433  1.000000  1.073828  1.151433  1.151433  \n",
            "156  1.000000  1.000000  1.073828  1.000000  1.073828  1.073828  1.000000  \n",
            "9    1.073828  1.000000  1.000000  1.000000  1.073828  1.073828  1.073828  \n",
            "31   1.000000  1.000000  1.000000  1.000000  1.000000  1.000000  1.000000  \n",
            "..        ...       ...       ...       ...       ...       ...       ...  \n",
            "80   1.073828  1.073828  1.073828  1.073828  1.073828  1.073828  1.073828  \n",
            "145  1.000000  1.000000  1.000000  1.000000  1.073828  1.000000  1.073828  \n",
            "16   1.000000  1.073828  1.151433  1.151433  1.073828  1.151433  1.073828  \n",
            "110  1.000000  1.000000  1.000000  1.151433  1.000000  1.073828  1.000000  \n",
            "119  1.000000  1.151433  1.000000  1.073828  1.073828  1.151433  1.000000  \n",
            "\n",
            "[128 rows x 32 columns]\n"
          ]
        }
      ]
    },
    {
      "cell_type": "code",
      "source": [
        ""
      ],
      "metadata": {
        "id": "hBTLKBQmkQtD"
      },
      "execution_count": null,
      "outputs": []
    },
    {
      "cell_type": "code",
      "source": [
        "from Py_FS.wrapper.nature_inspired.MA import MA as FS\n",
        "solution = FS(num_agents=30, max_iter=10, train_data=x, train_label=y, save_conv_graph=True)"
      ],
      "metadata": {
        "colab": {
          "base_uri": "https://localhost:8080/",
          "height": 1000
        },
        "id": "0i04jJpVhOgN",
        "outputId": "a177b1a6-bad8-400e-94b8-3691964524c4"
      },
      "execution_count": 70,
      "outputs": [
        {
          "output_type": "stream",
          "name": "stdout",
          "text": [
            "Weight for the classification accuracy [0-1]: 1\n",
            "Enter the percentage of data wanted for valdiation [0, 100]: 40\n",
            "\n",
            "================================================================================\n",
            "                          Iteration - 1\n",
            "================================================================================\n",
            "\n",
            "\n",
            "Number of agents: 30\n",
            "\n",
            "------------- Best Agent ---------------\n",
            "Fitness: 0.703125\n",
            "Number of Features: 26\n",
            "----------------------------------------\n",
            "\n",
            "Mayfly 1 - Fitness: 0.703125, Number of Features: 26\n",
            "Mayfly 2 - Fitness: 0.703125, Number of Features: 26\n",
            "Mayfly 3 - Fitness: 0.703125, Number of Features: 26\n",
            "Mayfly 4 - Fitness: 0.625, Number of Features: 24\n",
            "Mayfly 5 - Fitness: 0.609375, Number of Features: 16\n",
            "Mayfly 6 - Fitness: 0.59375, Number of Features: 19\n",
            "Mayfly 7 - Fitness: 0.578125, Number of Features: 23\n",
            "Mayfly 8 - Fitness: 0.5625, Number of Features: 20\n",
            "Mayfly 9 - Fitness: 0.5625, Number of Features: 20\n",
            "Mayfly 10 - Fitness: 0.5625, Number of Features: 25\n",
            "Mayfly 11 - Fitness: 0.5625, Number of Features: 28\n",
            "Mayfly 12 - Fitness: 0.546875, Number of Features: 22\n",
            "Mayfly 13 - Fitness: 0.546875, Number of Features: 22\n",
            "Mayfly 14 - Fitness: 0.546875, Number of Features: 23\n",
            "Mayfly 15 - Fitness: 0.546875, Number of Features: 22\n",
            "Mayfly 16 - Fitness: 0.546875, Number of Features: 22\n",
            "Mayfly 17 - Fitness: 0.546875, Number of Features: 22\n",
            "Mayfly 18 - Fitness: 0.546875, Number of Features: 22\n",
            "Mayfly 19 - Fitness: 0.53125, Number of Features: 21\n",
            "Mayfly 20 - Fitness: 0.53125, Number of Features: 19\n",
            "Mayfly 21 - Fitness: 0.53125, Number of Features: 20\n",
            "Mayfly 22 - Fitness: 0.53125, Number of Features: 24\n",
            "Mayfly 23 - Fitness: 0.53125, Number of Features: 24\n",
            "Mayfly 24 - Fitness: 0.53125, Number of Features: 24\n",
            "Mayfly 25 - Fitness: 0.53125, Number of Features: 24\n",
            "Mayfly 26 - Fitness: 0.53125, Number of Features: 24\n",
            "Mayfly 27 - Fitness: 0.53125, Number of Features: 24\n",
            "Mayfly 28 - Fitness: 0.515625, Number of Features: 21\n",
            "Mayfly 29 - Fitness: 0.5, Number of Features: 24\n",
            "Mayfly 30 - Fitness: 0.5, Number of Features: 25\n",
            "================================================================================\n",
            "\n",
            "\n",
            "================================================================================\n",
            "                          Iteration - 2\n",
            "================================================================================\n",
            "\n",
            "\n",
            "Number of agents: 30\n",
            "\n",
            "------------- Best Agent ---------------\n",
            "Fitness: 0.640625\n",
            "Number of Features: 10\n",
            "----------------------------------------\n",
            "\n",
            "Mayfly 1 - Fitness: 0.640625, Number of Features: 10\n",
            "Mayfly 2 - Fitness: 0.640625, Number of Features: 10\n",
            "Mayfly 3 - Fitness: 0.59375, Number of Features: 25\n",
            "Mayfly 4 - Fitness: 0.59375, Number of Features: 21\n",
            "Mayfly 5 - Fitness: 0.578125, Number of Features: 16\n",
            "Mayfly 6 - Fitness: 0.578125, Number of Features: 17\n",
            "Mayfly 7 - Fitness: 0.578125, Number of Features: 22\n",
            "Mayfly 8 - Fitness: 0.5625, Number of Features: 23\n",
            "Mayfly 9 - Fitness: 0.5625, Number of Features: 23\n",
            "Mayfly 10 - Fitness: 0.5625, Number of Features: 23\n",
            "Mayfly 11 - Fitness: 0.5625, Number of Features: 23\n",
            "Mayfly 12 - Fitness: 0.5625, Number of Features: 24\n",
            "Mayfly 13 - Fitness: 0.5625, Number of Features: 23\n",
            "Mayfly 14 - Fitness: 0.5625, Number of Features: 23\n",
            "Mayfly 15 - Fitness: 0.5625, Number of Features: 17\n",
            "Mayfly 16 - Fitness: 0.5625, Number of Features: 23\n",
            "Mayfly 17 - Fitness: 0.5625, Number of Features: 23\n",
            "Mayfly 18 - Fitness: 0.5625, Number of Features: 23\n",
            "Mayfly 19 - Fitness: 0.546875, Number of Features: 20\n",
            "Mayfly 20 - Fitness: 0.546875, Number of Features: 20\n",
            "Mayfly 21 - Fitness: 0.546875, Number of Features: 24\n",
            "Mayfly 22 - Fitness: 0.546875, Number of Features: 23\n",
            "Mayfly 23 - Fitness: 0.53125, Number of Features: 20\n",
            "Mayfly 24 - Fitness: 0.53125, Number of Features: 16\n",
            "Mayfly 25 - Fitness: 0.53125, Number of Features: 20\n",
            "Mayfly 26 - Fitness: 0.53125, Number of Features: 22\n",
            "Mayfly 27 - Fitness: 0.53125, Number of Features: 25\n",
            "Mayfly 28 - Fitness: 0.53125, Number of Features: 20\n",
            "Mayfly 29 - Fitness: 0.53125, Number of Features: 20\n",
            "Mayfly 30 - Fitness: 0.53125, Number of Features: 20\n",
            "================================================================================\n",
            "\n",
            "\n",
            "================================================================================\n",
            "                          Iteration - 3\n",
            "================================================================================\n",
            "\n",
            "\n",
            "Number of agents: 30\n",
            "\n",
            "------------- Best Agent ---------------\n",
            "Fitness: 0.609375\n",
            "Number of Features: 18\n",
            "----------------------------------------\n",
            "\n",
            "Mayfly 1 - Fitness: 0.609375, Number of Features: 18\n",
            "Mayfly 2 - Fitness: 0.609375, Number of Features: 18\n",
            "Mayfly 3 - Fitness: 0.609375, Number of Features: 18\n",
            "Mayfly 4 - Fitness: 0.609375, Number of Features: 18\n",
            "Mayfly 5 - Fitness: 0.609375, Number of Features: 18\n",
            "Mayfly 6 - Fitness: 0.609375, Number of Features: 18\n",
            "Mayfly 7 - Fitness: 0.609375, Number of Features: 18\n",
            "Mayfly 8 - Fitness: 0.609375, Number of Features: 18\n",
            "Mayfly 9 - Fitness: 0.578125, Number of Features: 19\n",
            "Mayfly 10 - Fitness: 0.578125, Number of Features: 21\n",
            "Mayfly 11 - Fitness: 0.578125, Number of Features: 19\n",
            "Mayfly 12 - Fitness: 0.578125, Number of Features: 26\n",
            "Mayfly 13 - Fitness: 0.578125, Number of Features: 21\n",
            "Mayfly 14 - Fitness: 0.578125, Number of Features: 24\n",
            "Mayfly 15 - Fitness: 0.5625, Number of Features: 22\n",
            "Mayfly 16 - Fitness: 0.5625, Number of Features: 22\n",
            "Mayfly 17 - Fitness: 0.5625, Number of Features: 22\n",
            "Mayfly 18 - Fitness: 0.5625, Number of Features: 20\n",
            "Mayfly 19 - Fitness: 0.5625, Number of Features: 24\n",
            "Mayfly 20 - Fitness: 0.546875, Number of Features: 27\n",
            "Mayfly 21 - Fitness: 0.546875, Number of Features: 21\n",
            "Mayfly 22 - Fitness: 0.546875, Number of Features: 26\n",
            "Mayfly 23 - Fitness: 0.53125, Number of Features: 16\n",
            "Mayfly 24 - Fitness: 0.53125, Number of Features: 23\n",
            "Mayfly 25 - Fitness: 0.53125, Number of Features: 26\n",
            "Mayfly 26 - Fitness: 0.53125, Number of Features: 21\n",
            "Mayfly 27 - Fitness: 0.53125, Number of Features: 29\n",
            "Mayfly 28 - Fitness: 0.53125, Number of Features: 27\n",
            "Mayfly 29 - Fitness: 0.53125, Number of Features: 16\n",
            "Mayfly 30 - Fitness: 0.53125, Number of Features: 16\n",
            "================================================================================\n",
            "\n",
            "\n",
            "================================================================================\n",
            "                          Iteration - 4\n",
            "================================================================================\n",
            "\n",
            "\n",
            "Number of agents: 30\n",
            "\n",
            "------------- Best Agent ---------------\n",
            "Fitness: 0.640625\n",
            "Number of Features: 23\n",
            "----------------------------------------\n",
            "\n",
            "Mayfly 1 - Fitness: 0.640625, Number of Features: 23\n",
            "Mayfly 2 - Fitness: 0.625, Number of Features: 28\n",
            "Mayfly 3 - Fitness: 0.609375, Number of Features: 22\n",
            "Mayfly 4 - Fitness: 0.609375, Number of Features: 22\n",
            "Mayfly 5 - Fitness: 0.59375, Number of Features: 13\n",
            "Mayfly 6 - Fitness: 0.578125, Number of Features: 24\n",
            "Mayfly 7 - Fitness: 0.5625, Number of Features: 22\n",
            "Mayfly 8 - Fitness: 0.5625, Number of Features: 22\n",
            "Mayfly 9 - Fitness: 0.5625, Number of Features: 22\n",
            "Mayfly 10 - Fitness: 0.5625, Number of Features: 22\n",
            "Mayfly 11 - Fitness: 0.5625, Number of Features: 22\n",
            "Mayfly 12 - Fitness: 0.5625, Number of Features: 24\n",
            "Mayfly 13 - Fitness: 0.546875, Number of Features: 24\n",
            "Mayfly 14 - Fitness: 0.546875, Number of Features: 20\n",
            "Mayfly 15 - Fitness: 0.546875, Number of Features: 26\n",
            "Mayfly 16 - Fitness: 0.546875, Number of Features: 21\n",
            "Mayfly 17 - Fitness: 0.546875, Number of Features: 21\n",
            "Mayfly 18 - Fitness: 0.546875, Number of Features: 21\n",
            "Mayfly 19 - Fitness: 0.546875, Number of Features: 21\n",
            "Mayfly 20 - Fitness: 0.53125, Number of Features: 23\n",
            "Mayfly 21 - Fitness: 0.53125, Number of Features: 22\n",
            "Mayfly 22 - Fitness: 0.53125, Number of Features: 23\n",
            "Mayfly 23 - Fitness: 0.515625, Number of Features: 19\n",
            "Mayfly 24 - Fitness: 0.515625, Number of Features: 21\n",
            "Mayfly 25 - Fitness: 0.515625, Number of Features: 21\n",
            "Mayfly 26 - Fitness: 0.515625, Number of Features: 21\n",
            "Mayfly 27 - Fitness: 0.515625, Number of Features: 21\n",
            "Mayfly 28 - Fitness: 0.515625, Number of Features: 27\n",
            "Mayfly 29 - Fitness: 0.515625, Number of Features: 29\n",
            "Mayfly 30 - Fitness: 0.515625, Number of Features: 19\n",
            "================================================================================\n",
            "\n",
            "\n",
            "================================================================================\n",
            "                          Iteration - 5\n",
            "================================================================================\n",
            "\n",
            "\n",
            "Number of agents: 30\n",
            "\n",
            "------------- Best Agent ---------------\n",
            "Fitness: 0.59375\n",
            "Number of Features: 20\n",
            "----------------------------------------\n",
            "\n",
            "Mayfly 1 - Fitness: 0.59375, Number of Features: 20\n",
            "Mayfly 2 - Fitness: 0.59375, Number of Features: 23\n",
            "Mayfly 3 - Fitness: 0.59375, Number of Features: 23\n",
            "Mayfly 4 - Fitness: 0.5625, Number of Features: 23\n",
            "Mayfly 5 - Fitness: 0.546875, Number of Features: 27\n",
            "Mayfly 6 - Fitness: 0.546875, Number of Features: 21\n",
            "Mayfly 7 - Fitness: 0.546875, Number of Features: 25\n",
            "Mayfly 8 - Fitness: 0.546875, Number of Features: 25\n",
            "Mayfly 9 - Fitness: 0.53125, Number of Features: 19\n",
            "Mayfly 10 - Fitness: 0.53125, Number of Features: 22\n",
            "Mayfly 11 - Fitness: 0.53125, Number of Features: 26\n",
            "Mayfly 12 - Fitness: 0.53125, Number of Features: 20\n",
            "Mayfly 13 - Fitness: 0.53125, Number of Features: 24\n",
            "Mayfly 14 - Fitness: 0.53125, Number of Features: 22\n",
            "Mayfly 15 - Fitness: 0.53125, Number of Features: 19\n",
            "Mayfly 16 - Fitness: 0.53125, Number of Features: 19\n",
            "Mayfly 17 - Fitness: 0.515625, Number of Features: 23\n",
            "Mayfly 18 - Fitness: 0.515625, Number of Features: 23\n",
            "Mayfly 19 - Fitness: 0.515625, Number of Features: 23\n",
            "Mayfly 20 - Fitness: 0.515625, Number of Features: 23\n",
            "Mayfly 21 - Fitness: 0.515625, Number of Features: 23\n",
            "Mayfly 22 - Fitness: 0.515625, Number of Features: 21\n",
            "Mayfly 23 - Fitness: 0.515625, Number of Features: 26\n",
            "Mayfly 24 - Fitness: 0.515625, Number of Features: 26\n",
            "Mayfly 25 - Fitness: 0.515625, Number of Features: 18\n",
            "Mayfly 26 - Fitness: 0.5, Number of Features: 18\n",
            "Mayfly 27 - Fitness: 0.5, Number of Features: 18\n",
            "Mayfly 28 - Fitness: 0.5, Number of Features: 18\n",
            "Mayfly 29 - Fitness: 0.5, Number of Features: 18\n",
            "Mayfly 30 - Fitness: 0.484375, Number of Features: 24\n",
            "================================================================================\n",
            "\n",
            "\n",
            "================================================================================\n",
            "                          Iteration - 6\n",
            "================================================================================\n",
            "\n",
            "\n",
            "Number of agents: 30\n",
            "\n",
            "------------- Best Agent ---------------\n",
            "Fitness: 0.65625\n",
            "Number of Features: 18\n",
            "----------------------------------------\n",
            "\n",
            "Mayfly 1 - Fitness: 0.65625, Number of Features: 18\n",
            "Mayfly 2 - Fitness: 0.625, Number of Features: 21\n",
            "Mayfly 3 - Fitness: 0.59375, Number of Features: 19\n",
            "Mayfly 4 - Fitness: 0.59375, Number of Features: 19\n",
            "Mayfly 5 - Fitness: 0.59375, Number of Features: 19\n",
            "Mayfly 6 - Fitness: 0.59375, Number of Features: 19\n",
            "Mayfly 7 - Fitness: 0.59375, Number of Features: 19\n",
            "Mayfly 8 - Fitness: 0.578125, Number of Features: 23\n",
            "Mayfly 9 - Fitness: 0.578125, Number of Features: 27\n",
            "Mayfly 10 - Fitness: 0.578125, Number of Features: 23\n",
            "Mayfly 11 - Fitness: 0.578125, Number of Features: 23\n",
            "Mayfly 12 - Fitness: 0.5625, Number of Features: 17\n",
            "Mayfly 13 - Fitness: 0.5625, Number of Features: 17\n",
            "Mayfly 14 - Fitness: 0.5625, Number of Features: 17\n",
            "Mayfly 15 - Fitness: 0.5625, Number of Features: 17\n",
            "Mayfly 16 - Fitness: 0.5625, Number of Features: 20\n",
            "Mayfly 17 - Fitness: 0.5625, Number of Features: 20\n",
            "Mayfly 18 - Fitness: 0.5625, Number of Features: 22\n",
            "Mayfly 19 - Fitness: 0.5625, Number of Features: 27\n",
            "Mayfly 20 - Fitness: 0.546875, Number of Features: 23\n",
            "Mayfly 21 - Fitness: 0.546875, Number of Features: 18\n",
            "Mayfly 22 - Fitness: 0.546875, Number of Features: 18\n",
            "Mayfly 23 - Fitness: 0.546875, Number of Features: 23\n",
            "Mayfly 24 - Fitness: 0.53125, Number of Features: 24\n",
            "Mayfly 25 - Fitness: 0.53125, Number of Features: 25\n",
            "Mayfly 26 - Fitness: 0.53125, Number of Features: 23\n",
            "Mayfly 27 - Fitness: 0.515625, Number of Features: 21\n",
            "Mayfly 28 - Fitness: 0.515625, Number of Features: 18\n",
            "Mayfly 29 - Fitness: 0.515625, Number of Features: 22\n",
            "Mayfly 30 - Fitness: 0.515625, Number of Features: 20\n",
            "================================================================================\n",
            "\n",
            "\n",
            "================================================================================\n",
            "                          Iteration - 7\n",
            "================================================================================\n",
            "\n",
            "\n",
            "Number of agents: 30\n",
            "\n",
            "------------- Best Agent ---------------\n",
            "Fitness: 0.640625\n",
            "Number of Features: 24\n",
            "----------------------------------------\n",
            "\n",
            "Mayfly 1 - Fitness: 0.640625, Number of Features: 24\n",
            "Mayfly 2 - Fitness: 0.59375, Number of Features: 23\n",
            "Mayfly 3 - Fitness: 0.59375, Number of Features: 23\n",
            "Mayfly 4 - Fitness: 0.59375, Number of Features: 23\n",
            "Mayfly 5 - Fitness: 0.59375, Number of Features: 23\n",
            "Mayfly 6 - Fitness: 0.59375, Number of Features: 23\n",
            "Mayfly 7 - Fitness: 0.578125, Number of Features: 21\n",
            "Mayfly 8 - Fitness: 0.578125, Number of Features: 26\n",
            "Mayfly 9 - Fitness: 0.5625, Number of Features: 24\n",
            "Mayfly 10 - Fitness: 0.5625, Number of Features: 28\n",
            "Mayfly 11 - Fitness: 0.5625, Number of Features: 24\n",
            "Mayfly 12 - Fitness: 0.546875, Number of Features: 22\n",
            "Mayfly 13 - Fitness: 0.546875, Number of Features: 27\n",
            "Mayfly 14 - Fitness: 0.546875, Number of Features: 24\n",
            "Mayfly 15 - Fitness: 0.546875, Number of Features: 20\n",
            "Mayfly 16 - Fitness: 0.546875, Number of Features: 22\n",
            "Mayfly 17 - Fitness: 0.546875, Number of Features: 22\n",
            "Mayfly 18 - Fitness: 0.546875, Number of Features: 22\n",
            "Mayfly 19 - Fitness: 0.546875, Number of Features: 22\n",
            "Mayfly 20 - Fitness: 0.53125, Number of Features: 22\n",
            "Mayfly 21 - Fitness: 0.53125, Number of Features: 22\n",
            "Mayfly 22 - Fitness: 0.53125, Number of Features: 22\n",
            "Mayfly 23 - Fitness: 0.53125, Number of Features: 22\n",
            "Mayfly 24 - Fitness: 0.53125, Number of Features: 25\n",
            "Mayfly 25 - Fitness: 0.53125, Number of Features: 24\n",
            "Mayfly 26 - Fitness: 0.53125, Number of Features: 24\n",
            "Mayfly 27 - Fitness: 0.53125, Number of Features: 24\n",
            "Mayfly 28 - Fitness: 0.53125, Number of Features: 24\n",
            "Mayfly 29 - Fitness: 0.515625, Number of Features: 20\n",
            "Mayfly 30 - Fitness: 0.515625, Number of Features: 23\n",
            "================================================================================\n",
            "\n",
            "\n",
            "================================================================================\n",
            "                          Iteration - 8\n",
            "================================================================================\n",
            "\n",
            "\n",
            "Number of agents: 30\n",
            "\n",
            "------------- Best Agent ---------------\n",
            "Fitness: 0.65625\n",
            "Number of Features: 19\n",
            "----------------------------------------\n",
            "\n",
            "Mayfly 1 - Fitness: 0.65625, Number of Features: 19\n",
            "Mayfly 2 - Fitness: 0.65625, Number of Features: 19\n",
            "Mayfly 3 - Fitness: 0.65625, Number of Features: 19\n",
            "Mayfly 4 - Fitness: 0.59375, Number of Features: 21\n",
            "Mayfly 5 - Fitness: 0.59375, Number of Features: 16\n",
            "Mayfly 6 - Fitness: 0.578125, Number of Features: 22\n",
            "Mayfly 7 - Fitness: 0.578125, Number of Features: 20\n",
            "Mayfly 8 - Fitness: 0.578125, Number of Features: 21\n",
            "Mayfly 9 - Fitness: 0.5625, Number of Features: 19\n",
            "Mayfly 10 - Fitness: 0.5625, Number of Features: 19\n",
            "Mayfly 11 - Fitness: 0.5625, Number of Features: 19\n",
            "Mayfly 12 - Fitness: 0.5625, Number of Features: 19\n",
            "Mayfly 13 - Fitness: 0.5625, Number of Features: 19\n",
            "Mayfly 14 - Fitness: 0.546875, Number of Features: 22\n",
            "Mayfly 15 - Fitness: 0.546875, Number of Features: 22\n",
            "Mayfly 16 - Fitness: 0.546875, Number of Features: 21\n",
            "Mayfly 17 - Fitness: 0.546875, Number of Features: 21\n",
            "Mayfly 18 - Fitness: 0.546875, Number of Features: 24\n",
            "Mayfly 19 - Fitness: 0.546875, Number of Features: 23\n",
            "Mayfly 20 - Fitness: 0.53125, Number of Features: 20\n",
            "Mayfly 21 - Fitness: 0.53125, Number of Features: 20\n",
            "Mayfly 22 - Fitness: 0.53125, Number of Features: 20\n",
            "Mayfly 23 - Fitness: 0.53125, Number of Features: 28\n",
            "Mayfly 24 - Fitness: 0.53125, Number of Features: 21\n",
            "Mayfly 25 - Fitness: 0.515625, Number of Features: 15\n",
            "Mayfly 26 - Fitness: 0.515625, Number of Features: 15\n",
            "Mayfly 27 - Fitness: 0.515625, Number of Features: 15\n",
            "Mayfly 28 - Fitness: 0.515625, Number of Features: 15\n",
            "Mayfly 29 - Fitness: 0.515625, Number of Features: 15\n",
            "Mayfly 30 - Fitness: 0.5, Number of Features: 26\n",
            "================================================================================\n",
            "\n",
            "\n",
            "================================================================================\n",
            "                          Iteration - 9\n",
            "================================================================================\n",
            "\n",
            "\n",
            "Number of agents: 30\n",
            "\n",
            "------------- Best Agent ---------------\n",
            "Fitness: 0.6875\n",
            "Number of Features: 23\n",
            "----------------------------------------\n",
            "\n",
            "Mayfly 1 - Fitness: 0.6875, Number of Features: 23\n",
            "Mayfly 2 - Fitness: 0.59375, Number of Features: 22\n",
            "Mayfly 3 - Fitness: 0.59375, Number of Features: 22\n",
            "Mayfly 4 - Fitness: 0.59375, Number of Features: 22\n",
            "Mayfly 5 - Fitness: 0.59375, Number of Features: 22\n",
            "Mayfly 6 - Fitness: 0.59375, Number of Features: 26\n",
            "Mayfly 7 - Fitness: 0.59375, Number of Features: 19\n",
            "Mayfly 8 - Fitness: 0.59375, Number of Features: 19\n",
            "Mayfly 9 - Fitness: 0.59375, Number of Features: 19\n",
            "Mayfly 10 - Fitness: 0.59375, Number of Features: 19\n",
            "Mayfly 11 - Fitness: 0.578125, Number of Features: 20\n",
            "Mayfly 12 - Fitness: 0.578125, Number of Features: 20\n",
            "Mayfly 13 - Fitness: 0.578125, Number of Features: 19\n",
            "Mayfly 14 - Fitness: 0.578125, Number of Features: 26\n",
            "Mayfly 15 - Fitness: 0.578125, Number of Features: 15\n",
            "Mayfly 16 - Fitness: 0.578125, Number of Features: 18\n",
            "Mayfly 17 - Fitness: 0.578125, Number of Features: 26\n",
            "Mayfly 18 - Fitness: 0.546875, Number of Features: 26\n",
            "Mayfly 19 - Fitness: 0.546875, Number of Features: 16\n",
            "Mayfly 20 - Fitness: 0.546875, Number of Features: 23\n",
            "Mayfly 21 - Fitness: 0.53125, Number of Features: 25\n",
            "Mayfly 22 - Fitness: 0.53125, Number of Features: 25\n",
            "Mayfly 23 - Fitness: 0.53125, Number of Features: 18\n",
            "Mayfly 24 - Fitness: 0.53125, Number of Features: 24\n",
            "Mayfly 25 - Fitness: 0.53125, Number of Features: 26\n",
            "Mayfly 26 - Fitness: 0.515625, Number of Features: 18\n",
            "Mayfly 27 - Fitness: 0.515625, Number of Features: 22\n",
            "Mayfly 28 - Fitness: 0.515625, Number of Features: 22\n",
            "Mayfly 29 - Fitness: 0.515625, Number of Features: 22\n",
            "Mayfly 30 - Fitness: 0.515625, Number of Features: 21\n",
            "================================================================================\n",
            "\n",
            "\n",
            "================================================================================\n",
            "                          Iteration - 10\n",
            "================================================================================\n",
            "\n",
            "\n",
            "Number of agents: 30\n",
            "\n",
            "------------- Best Agent ---------------\n",
            "Fitness: 0.609375\n",
            "Number of Features: 17\n",
            "----------------------------------------\n",
            "\n",
            "Mayfly 1 - Fitness: 0.609375, Number of Features: 17\n",
            "Mayfly 2 - Fitness: 0.609375, Number of Features: 17\n",
            "Mayfly 3 - Fitness: 0.609375, Number of Features: 17\n",
            "Mayfly 4 - Fitness: 0.59375, Number of Features: 21\n",
            "Mayfly 5 - Fitness: 0.59375, Number of Features: 24\n",
            "Mayfly 6 - Fitness: 0.59375, Number of Features: 19\n",
            "Mayfly 7 - Fitness: 0.59375, Number of Features: 19\n",
            "Mayfly 8 - Fitness: 0.59375, Number of Features: 19\n",
            "Mayfly 9 - Fitness: 0.578125, Number of Features: 25\n",
            "Mayfly 10 - Fitness: 0.578125, Number of Features: 24\n",
            "Mayfly 11 - Fitness: 0.578125, Number of Features: 23\n",
            "Mayfly 12 - Fitness: 0.5625, Number of Features: 25\n",
            "Mayfly 13 - Fitness: 0.5625, Number of Features: 24\n",
            "Mayfly 14 - Fitness: 0.5625, Number of Features: 22\n",
            "Mayfly 15 - Fitness: 0.546875, Number of Features: 27\n",
            "Mayfly 16 - Fitness: 0.546875, Number of Features: 20\n",
            "Mayfly 17 - Fitness: 0.546875, Number of Features: 22\n",
            "Mayfly 18 - Fitness: 0.546875, Number of Features: 25\n",
            "Mayfly 19 - Fitness: 0.546875, Number of Features: 19\n",
            "Mayfly 20 - Fitness: 0.546875, Number of Features: 19\n",
            "Mayfly 21 - Fitness: 0.546875, Number of Features: 19\n",
            "Mayfly 22 - Fitness: 0.546875, Number of Features: 20\n",
            "Mayfly 23 - Fitness: 0.53125, Number of Features: 24\n",
            "Mayfly 24 - Fitness: 0.53125, Number of Features: 24\n",
            "Mayfly 25 - Fitness: 0.515625, Number of Features: 23\n",
            "Mayfly 26 - Fitness: 0.515625, Number of Features: 20\n",
            "Mayfly 27 - Fitness: 0.515625, Number of Features: 23\n",
            "Mayfly 28 - Fitness: 0.515625, Number of Features: 23\n",
            "Mayfly 29 - Fitness: 0.515625, Number of Features: 23\n",
            "Mayfly 30 - Fitness: 0.515625, Number of Features: 23\n",
            "================================================================================\n",
            "\n",
            "\n",
            "================================================================================\n",
            "                                    Final Result                                  \n",
            "================================================================================\n",
            "\n",
            "Leader Mayfly Dimension : 26\n",
            "Leader Mayfly Fitness : 0.703125\n",
            "Leader Mayfly Classification Accuracy : 0.703125\n",
            "\n",
            "================================================================================\n",
            "\n"
          ]
        },
        {
          "output_type": "display_data",
          "data": {
            "text/plain": [
              "<Figure size 432x288 with 1 Axes>"
            ],
            "image/png": "[encoded data removed]"
          },
          "metadata": {
            "needs_background": "light"
          }
        }
      ]
    },
    {
      "cell_type": "code",
      "source": [
        "solution.best_agent"
      ],
      "metadata": {
        "colab": {
          "base_uri": "https://localhost:8080/"
        },
        "id": "Mpis18MVlo6N",
        "outputId": "1522dc99-b679-43ca-dd0e-e3e57fa6715e"
      },
      "execution_count": 72,
      "outputs": [
        {
          "output_type": "execute_result",
          "data": {
            "text/plain": [
              "array([1., 1., 1., 1., 0., 1., 1., 0., 1., 1., 0., 1., 1., 1., 1., 0., 1.,\n",
              "       1., 1., 1., 1., 1., 1., 1., 1., 0., 1., 1., 1., 0., 1., 1.])"
            ]
          },
          "metadata": {},
          "execution_count": 72
        }
      ]
    },
    {
      "cell_type": "code",
      "source": [
        "from Py_FS.filter import MI as FS\n",
        "\n",
        "solution = FS(x, y)"
      ],
      "metadata": {
        "id": "7NckA6LziEcy"
      },
      "execution_count": 63,
      "outputs": []
    },
    {
      "cell_type": "code",
      "source": [
        "solution.ranks"
      ],
      "metadata": {
        "colab": {
          "base_uri": "https://localhost:8080/",
          "height": 166
        },
        "id": "KrzdsQhNk7Lx",
        "outputId": "d5e65d88-104f-4093-cacf-3c04bc45097f"
      },
      "execution_count": 73,
      "outputs": [
        {
          "output_type": "error",
          "ename": "AttributeError",
          "evalue": "ignored",
          "traceback": [
            "\u001b[0;31m---------------------------------------------------------------------------\u001b[0m",
            "\u001b[0;31mAttributeError\u001b[0m                            Traceback (most recent call last)",
            "\u001b[0;32m<ipython-input-73-4fd1a1c4e3ab>\u001b[0m in \u001b[0;36m<module>\u001b[0;34m()\u001b[0m\n\u001b[0;32m----> 1\u001b[0;31m \u001b[0msolution\u001b[0m\u001b[0;34m.\u001b[0m\u001b[0mranks\u001b[0m\u001b[0;34m\u001b[0m\u001b[0;34m\u001b[0m\u001b[0m\n\u001b[0m",
            "\u001b[0;31mAttributeError\u001b[0m: 'Solution' object has no attribute 'ranks'"
          ]
        }
      ]
    },
    {
      "cell_type": "code",
      "source": [
        "solution.best_accuracy"
      ],
      "metadata": {
        "colab": {
          "base_uri": "https://localhost:8080/"
        },
        "id": "N-UGZw-spguv",
        "outputId": "06103658-02bc-4aaf-da1d-0004c6efbbd9"
      },
      "execution_count": 74,
      "outputs": [
        {
          "output_type": "execute_result",
          "data": {
            "text/plain": [
              "0.703125"
            ]
          },
          "metadata": {},
          "execution_count": 74
        }
      ]
    },
    {
      "cell_type": "code",
      "source": [
        "solution.final_population"
      ],
      "metadata": {
        "colab": {
          "base_uri": "https://localhost:8080/"
        },
        "id": "SRBa2eT8pkNS",
        "outputId": "ecffe486-2e9e-4beb-c022-8f2b3de3127d"
      },
      "execution_count": 76,
      "outputs": [
        {
          "output_type": "execute_result",
          "data": {
            "text/plain": [
              "array([[0., 1., 0., 1., 1., 0., 1., 1., 0., 1., 0., 0., 0., 1., 0., 1.,\n",
              "        1., 0., 1., 1., 1., 0., 1., 0., 0., 0., 1., 0., 1., 1., 1., 0.],\n",
              "       [0., 1., 0., 1., 1., 0., 1., 1., 0., 1., 0., 0., 0., 1., 0., 1.,\n",
              "        1., 0., 1., 1., 1., 0., 1., 0., 0., 0., 1., 0., 1., 1., 1., 0.],\n",
              "       [0., 1., 0., 1., 1., 0., 1., 1., 0., 1., 0., 0., 0., 1., 0., 1.,\n",
              "        1., 0., 1., 1., 1., 0., 1., 0., 0., 0., 1., 0., 1., 1., 1., 0.],\n",
              "       [1., 1., 0., 1., 1., 1., 1., 1., 1., 0., 0., 0., 1., 1., 0., 1.,\n",
              "        0., 1., 1., 0., 1., 1., 1., 0., 1., 1., 1., 0., 1., 0., 1., 0.],\n",
              "       [1., 0., 1., 1., 1., 0., 0., 1., 1., 1., 1., 1., 1., 1., 0., 1.,\n",
              "        1., 0., 1., 1., 1., 1., 1., 1., 1., 0., 1., 0., 1., 1., 1., 0.],\n",
              "       [1., 1., 1., 1., 0., 0., 1., 0., 0., 0., 1., 0., 1., 1., 0., 1.,\n",
              "        0., 1., 1., 0., 1., 1., 1., 0., 1., 1., 1., 0., 1., 0., 1., 0.],\n",
              "       [1., 1., 1., 1., 0., 0., 1., 0., 0., 0., 1., 0., 1., 1., 0., 1.,\n",
              "        0., 1., 1., 0., 1., 1., 1., 0., 1., 1., 1., 0., 1., 0., 1., 0.],\n",
              "       [1., 1., 1., 1., 0., 0., 1., 0., 0., 0., 1., 0., 1., 1., 0., 1.,\n",
              "        0., 1., 1., 0., 1., 1., 1., 0., 1., 1., 1., 0., 1., 0., 1., 0.],\n",
              "       [1., 0., 0., 0., 1., 1., 1., 0., 1., 1., 1., 1., 1., 1., 1., 1.,\n",
              "        1., 0., 0., 1., 1., 1., 1., 1., 1., 0., 0., 0., 1., 1., 1., 1.],\n",
              "       [1., 1., 1., 1., 1., 1., 1., 0., 0., 1., 0., 1., 1., 1., 1., 0.,\n",
              "        1., 1., 0., 1., 1., 1., 1., 1., 0., 0., 1., 1., 1., 1., 1., 1.],\n",
              "       [1., 1., 1., 1., 1., 1., 1., 1., 0., 1., 0., 0., 1., 1., 1., 1.,\n",
              "        1., 1., 1., 1., 0., 0., 1., 0., 1., 1., 0., 1., 1., 0., 1., 1.],\n",
              "       [0., 1., 0., 1., 0., 1., 1., 1., 1., 1., 0., 1., 1., 0., 1., 1.,\n",
              "        1., 1., 1., 1., 1., 1., 1., 1., 1., 1., 1., 1., 1., 0., 1., 0.],\n",
              "       [1., 0., 1., 1., 1., 1., 1., 1., 1., 1., 0., 1., 0., 1., 1., 0.,\n",
              "        1., 1., 1., 0., 1., 1., 1., 1., 0., 1., 0., 1., 0., 1., 1., 1.],\n",
              "       [0., 1., 1., 1., 1., 1., 1., 1., 0., 0., 0., 1., 0., 1., 1., 1.,\n",
              "        1., 1., 1., 1., 1., 1., 1., 1., 1., 0., 1., 1., 0., 0., 0., 0.],\n",
              "       [1., 1., 0., 1., 1., 0., 0., 1., 1., 1., 1., 1., 0., 1., 0., 1.,\n",
              "        1., 1., 1., 1., 0., 1., 0., 1., 0., 0., 0., 0., 1., 0., 1., 0.],\n",
              "       [1., 1., 1., 1., 1., 1., 1., 0., 0., 1., 0., 1., 1., 1., 1., 1.,\n",
              "        1., 1., 1., 1., 0., 1., 0., 1., 0., 0., 0., 1., 0., 0., 0., 0.],\n",
              "       [1., 1., 0., 1., 1., 0., 0., 1., 1., 1., 1., 1., 0., 1., 0., 1.,\n",
              "        1., 1., 1., 1., 0., 1., 0., 1., 0., 0., 0., 0., 1., 0., 1., 0.],\n",
              "       [1., 1., 0., 1., 1., 0., 0., 1., 1., 1., 1., 1., 0., 1., 0., 1.,\n",
              "        1., 1., 1., 1., 0., 1., 0., 1., 0., 0., 0., 0., 1., 0., 1., 0.],\n",
              "       [1., 1., 1., 1., 0., 1., 1., 0., 1., 0., 1., 1., 1., 1., 1., 1.,\n",
              "        1., 0., 1., 0., 1., 1., 1., 1., 1., 1., 1., 1., 1., 1., 1., 1.],\n",
              "       [1., 1., 1., 1., 1., 0., 1., 1., 1., 1., 0., 1., 0., 0., 1., 1.,\n",
              "        1., 1., 1., 0., 1., 1., 0., 1., 1., 0., 1., 1., 0., 1., 0., 0.],\n",
              "       [1., 1., 0., 1., 1., 0., 1., 1., 0., 1., 0., 1., 0., 1., 1., 1.,\n",
              "        1., 1., 0., 0., 0., 0., 1., 1., 1., 0., 1., 0., 1., 1., 1., 0.],\n",
              "       [1., 1., 1., 0., 1., 1., 1., 1., 1., 1., 0., 1., 1., 0., 1., 1.,\n",
              "        0., 1., 1., 1., 1., 1., 1., 1., 0., 1., 0., 0., 1., 1., 1., 1.],\n",
              "       [0., 1., 1., 1., 0., 1., 1., 1., 1., 0., 1., 1., 1., 1., 0., 0.,\n",
              "        1., 1., 1., 1., 1., 1., 1., 1., 0., 1., 0., 1., 1., 1., 1., 0.],\n",
              "       [0., 1., 1., 1., 0., 0., 1., 1., 0., 1., 1., 1., 1., 1., 0., 0.,\n",
              "        0., 1., 1., 1., 1., 1., 1., 1., 1., 1., 1., 1., 0., 1., 1., 1.],\n",
              "       [0., 0., 1., 1., 0., 0., 1., 1., 0., 1., 0., 1., 1., 1., 0., 0.,\n",
              "        0., 1., 1., 1., 1., 1., 1., 1., 1., 1., 1., 1., 1., 1., 1., 1.],\n",
              "       [0., 0., 1., 1., 0., 0., 1., 1., 0., 1., 0., 1., 1., 1., 0., 0.,\n",
              "        0., 1., 1., 1., 1., 1., 1., 1., 1., 1., 1., 1., 1., 1., 1., 1.],\n",
              "       [1., 0., 1., 1., 0., 1., 1., 0., 1., 0., 0., 1., 1., 0., 0., 1.,\n",
              "        1., 1., 0., 1., 0., 1., 0., 1., 0., 1., 1., 1., 1., 0., 1., 1.],\n",
              "       [0., 0., 1., 1., 0., 0., 1., 1., 0., 1., 0., 1., 1., 1., 0., 0.,\n",
              "        0., 1., 1., 1., 1., 1., 1., 1., 1., 1., 1., 1., 1., 1., 1., 1.],\n",
              "       [0., 0., 1., 1., 0., 0., 1., 1., 0., 1., 0., 1., 1., 1., 0., 0.,\n",
              "        0., 1., 1., 1., 1., 1., 1., 1., 1., 1., 1., 1., 1., 1., 1., 1.],\n",
              "       [0., 0., 1., 1., 0., 0., 1., 1., 0., 1., 0., 1., 1., 1., 0., 0.,\n",
              "        0., 1., 1., 1., 1., 1., 1., 1., 1., 1., 1., 1., 1., 1., 1., 1.]])"
            ]
          },
          "metadata": {},
          "execution_count": 76
        }
      ]
    },
    {
      "cell_type": "code",
      "source": [
        "solution.final_fitness"
      ],
      "metadata": {
        "colab": {
          "base_uri": "https://localhost:8080/"
        },
        "id": "j97urHHgppNe",
        "outputId": "2a59c177-5f78-464f-9af5-c03051eeb758"
      },
      "execution_count": 77,
      "outputs": [
        {
          "output_type": "execute_result",
          "data": {
            "text/plain": [
              "array([0.609375, 0.609375, 0.609375, 0.59375 , 0.59375 , 0.59375 ,\n",
              "       0.59375 , 0.59375 , 0.578125, 0.578125, 0.578125, 0.5625  ,\n",
              "       0.5625  , 0.5625  , 0.546875, 0.546875, 0.546875, 0.546875,\n",
              "       0.546875, 0.546875, 0.546875, 0.546875, 0.53125 , 0.53125 ,\n",
              "       0.515625, 0.515625, 0.515625, 0.515625, 0.515625, 0.515625])"
            ]
          },
          "metadata": {},
          "execution_count": 77
        }
      ]
    },
    {
      "cell_type": "code",
      "source": [
        "solution.final_accuracy"
      ],
      "metadata": {
        "colab": {
          "base_uri": "https://localhost:8080/"
        },
        "id": "AuJBmAlrpt-L",
        "outputId": "e511d4da-b020-4cb1-f5ed-7a8940ff27cb"
      },
      "execution_count": 78,
      "outputs": [
        {
          "output_type": "execute_result",
          "data": {
            "text/plain": [
              "array([0.609375, 0.609375, 0.609375, 0.59375 , 0.59375 , 0.59375 ,\n",
              "       0.59375 , 0.59375 , 0.578125, 0.578125, 0.578125, 0.5625  ,\n",
              "       0.5625  , 0.5625  , 0.546875, 0.546875, 0.546875, 0.546875,\n",
              "       0.546875, 0.546875, 0.546875, 0.546875, 0.53125 , 0.53125 ,\n",
              "       0.515625, 0.515625, 0.515625, 0.515625, 0.515625, 0.515625])"
            ]
          },
          "metadata": {},
          "execution_count": 78
        }
      ]
    },
    {
      "cell_type": "code",
      "source": [
        "train_X, test_X, train_Y, test_Y = train_test_split(x, y, stratify=y, test_size=0.2, random_state=2)"
      ],
      "metadata": {
        "id": "16-Dzl27px8G"
      },
      "execution_count": 79,
      "outputs": []
    },
    {
      "cell_type": "code",
      "source": [
        "from  Py_FS.evaluation import evaluate"
      ],
      "metadata": {
        "id": "Oka2Bc0Dp9t-"
      },
      "execution_count": 80,
      "outputs": []
    },
    {
      "cell_type": "code",
      "source": [
        "print(train_X)"
      ],
      "metadata": {
        "colab": {
          "base_uri": "https://localhost:8080/"
        },
        "id": "09GV3eOhqdT5",
        "outputId": "e9e8a39d-3cca-41ab-8723-f67a717f6804"
      },
      "execution_count": 82,
      "outputs": [
        {
          "output_type": "stream",
          "name": "stdout",
          "text": [
            "          ch0       ch1       ch2       ch3       ch4       ch5       ch6  \\\n",
            "138  1.073828  1.000000  1.073828  1.000000  1.073828  1.151433  1.073828   \n",
            "62   1.073828  1.073828  1.073828  1.073828  1.073828  1.073828  1.073828   \n",
            "63   1.000000  1.073828  1.073828  1.073828  1.000000  1.073828  1.073828   \n",
            "6    1.073828  1.073828  1.073828  1.000000  1.073828  1.073828  1.073828   \n",
            "96   1.073828  1.000000  1.073828  1.073828  1.000000  1.073828  1.000000   \n",
            "..        ...       ...       ...       ...       ...       ...       ...   \n",
            "43   1.000000  1.000000  1.073828  1.000000  1.073828  1.073828  1.000000   \n",
            "34   1.073828  1.073828  1.073828  1.073828  1.073828  1.073828  1.073828   \n",
            "133  1.000000  1.000000  1.000000  1.000000  1.151433  1.000000  1.151433   \n",
            "119  1.073828  1.000000  1.000000  1.000000  1.000000  1.000000  1.151433   \n",
            "94   1.073828  1.000000  1.000000  1.073828  1.000000  1.000000  1.000000   \n",
            "\n",
            "          ch7       ch8       ch9  ...      ch22      ch23      ch24  \\\n",
            "138  1.073828  1.000000  1.000000  ...  1.073828  1.073828  1.000000   \n",
            "62   1.073828  1.000000  1.000000  ...  1.073828  1.073828  1.073828   \n",
            "63   1.073828  1.000000  1.073828  ...  1.073828  1.073828  1.000000   \n",
            "6    1.073828  1.000000  1.000000  ...  1.000000  1.000000  1.000000   \n",
            "96   1.151433  1.000000  1.073828  ...  1.000000  1.073828  1.000000   \n",
            "..        ...       ...       ...  ...       ...       ...       ...   \n",
            "43   1.000000  1.073828  1.000000  ...  1.073828  1.073828  1.000000   \n",
            "34   1.073828  1.073828  1.073828  ...  1.073828  1.073828  1.073828   \n",
            "133  1.073828  1.151433  1.000000  ...  1.073828  1.000000  1.073828   \n",
            "119  1.073828  1.073828  1.000000  ...  1.000000  1.000000  1.000000   \n",
            "94   1.073828  1.073828  1.000000  ...  1.073828  1.073828  1.073828   \n",
            "\n",
            "         ch25      ch26      ch27      ch28      ch29      ch30      ch31  \n",
            "138  1.073828  1.000000  1.000000  1.000000  1.073828  1.073828  1.151433  \n",
            "62   1.073828  1.073828  1.000000  1.073828  1.000000  1.073828  1.073828  \n",
            "63   1.073828  1.073828  1.073828  1.000000  1.000000  1.073828  1.073828  \n",
            "6    1.073828  1.000000  1.000000  1.000000  1.000000  1.000000  1.000000  \n",
            "96   1.073828  1.073828  1.073828  1.000000  1.073828  1.073828  1.073828  \n",
            "..        ...       ...       ...       ...       ...       ...       ...  \n",
            "43   1.000000  1.073828  1.073828  1.000000  1.000000  1.073828  1.073828  \n",
            "34   1.073828  1.073828  1.073828  1.073828  1.073828  1.000000  1.073828  \n",
            "133  1.073828  1.073828  1.000000  1.000000  1.000000  1.073828  1.073828  \n",
            "119  1.000000  1.151433  1.000000  1.073828  1.073828  1.151433  1.000000  \n",
            "94   1.000000  1.000000  1.000000  1.073828  1.073828  1.073828  1.151433  \n",
            "\n",
            "[128 rows x 32 columns]\n"
          ]
        }
      ]
    },
    {
      "cell_type": "code",
      "source": [
        "type(train_X)"
      ],
      "metadata": {
        "colab": {
          "base_uri": "https://localhost:8080/"
        },
        "id": "w2N6GL75rrDs",
        "outputId": "0965efb3-a5f4-4ce8-c70a-8a709e913083"
      },
      "execution_count": 84,
      "outputs": [
        {
          "output_type": "execute_result",
          "data": {
            "text/plain": [
              "pandas.core.frame.DataFrame"
            ]
          },
          "metadata": {},
          "execution_count": 84
        }
      ]
    },
    {
      "cell_type": "code",
      "source": [
        "type(x)"
      ],
      "metadata": {
        "colab": {
          "base_uri": "https://localhost:8080/"
        },
        "id": "Xrsv3ZVVryKq",
        "outputId": "7c4ecb22-0eb1-4a08-d9b9-3624eef66311"
      },
      "execution_count": 85,
      "outputs": [
        {
          "output_type": "execute_result",
          "data": {
            "text/plain": [
              "pandas.core.frame.DataFrame"
            ]
          },
          "metadata": {},
          "execution_count": 85
        }
      ]
    },
    {
      "cell_type": "code",
      "source": [
        "X_train = train_X.to_numpy()"
      ],
      "metadata": {
        "id": "UeHcTk0tr1nG"
      },
      "execution_count": 86,
      "outputs": []
    },
    {
      "cell_type": "code",
      "source": [
        "type(test_X)"
      ],
      "metadata": {
        "colab": {
          "base_uri": "https://localhost:8080/"
        },
        "id": "DAJNnwEws1it",
        "outputId": "dd449eba-2694-4438-b7b9-4d133b25dd0d"
      },
      "execution_count": 89,
      "outputs": [
        {
          "output_type": "execute_result",
          "data": {
            "text/plain": [
              "pandas.core.frame.DataFrame"
            ]
          },
          "metadata": {},
          "execution_count": 89
        }
      ]
    },
    {
      "cell_type": "code",
      "source": [
        "type(train_Y)"
      ],
      "metadata": {
        "colab": {
          "base_uri": "https://localhost:8080/"
        },
        "id": "oI3hsFIMtQhh",
        "outputId": "040a424a-6a49-4f17-bf93-2bfb1a3408ed"
      },
      "execution_count": 91,
      "outputs": [
        {
          "output_type": "execute_result",
          "data": {
            "text/plain": [
              "numpy.ndarray"
            ]
          },
          "metadata": {},
          "execution_count": 91
        }
      ]
    },
    {
      "cell_type": "code",
      "source": [
        "X_test = test_X.to_numpy()"
      ],
      "metadata": {
        "id": "-ispzU6QtDgu"
      },
      "execution_count": 90,
      "outputs": []
    },
    {
      "cell_type": "code",
      "source": [
        "X=x.to_numpy()"
      ],
      "metadata": {
        "id": "BWOS0-rDsYyt"
      },
      "execution_count": 87,
      "outputs": []
    },
    {
      "cell_type": "code",
      "source": [
        "print(x)"
      ],
      "metadata": {
        "colab": {
          "base_uri": "https://localhost:8080/"
        },
        "id": "3E2N_wzNqlwP",
        "outputId": "52cc18fa-6921-4c96-e9ae-8e08fd9dc5a5"
      },
      "execution_count": 83,
      "outputs": [
        {
          "output_type": "stream",
          "name": "stdout",
          "text": [
            "          ch0       ch1       ch2       ch3       ch4       ch5       ch6  \\\n",
            "23   1.073828  1.073828  1.073828  1.073828  1.073828  1.000000  1.000000   \n",
            "18   1.073828  1.073828  1.073828  1.073828  1.000000  1.073828  1.073828   \n",
            "5    1.073828  1.151433  1.073828  1.073828  1.073828  1.073828  1.073828   \n",
            "103  1.000000  1.073828  1.000000  1.073828  1.000000  1.000000  1.000000   \n",
            "142  1.073828  1.073828  1.073828  1.073828  1.151433  1.000000  1.000000   \n",
            "..        ...       ...       ...       ...       ...       ...       ...   \n",
            "71   1.073828  1.151433  1.073828  1.000000  1.073828  1.073828  1.000000   \n",
            "12   1.073828  1.000000  1.000000  1.073828  1.073828  1.151433  1.073828   \n",
            "50   1.073828  1.073828  1.073828  1.073828  1.073828  1.073828  1.073828   \n",
            "7    1.073828  1.073828  1.000000  1.000000  1.151433  1.073828  1.073828   \n",
            "70   1.000000  1.073828  1.000000  1.151433  1.000000  1.073828  1.073828   \n",
            "\n",
            "          ch7       ch8       ch9  ...      ch22      ch23      ch24  \\\n",
            "23   1.151433  1.000000  1.151433  ...  1.000000  1.151433  1.151433   \n",
            "18   1.073828  1.073828  1.000000  ...  1.073828  1.073828  1.073828   \n",
            "5    1.000000  1.073828  1.073828  ...  1.000000  1.073828  1.073828   \n",
            "103  1.000000  1.000000  1.151433  ...  1.000000  1.000000  1.000000   \n",
            "142  1.073828  1.073828  1.000000  ...  1.073828  1.073828  1.073828   \n",
            "..        ...       ...       ...  ...       ...       ...       ...   \n",
            "71   1.073828  1.073828  1.000000  ...  1.000000  1.073828  1.073828   \n",
            "12   1.073828  1.073828  1.000000  ...  1.073828  1.073828  1.000000   \n",
            "50   1.073828  1.000000  1.000000  ...  1.073828  1.073828  1.000000   \n",
            "7    1.151433  1.073828  1.073828  ...  1.000000  1.000000  1.073828   \n",
            "70   1.073828  1.073828  1.073828  ...  1.151433  1.073828  1.073828   \n",
            "\n",
            "         ch25      ch26      ch27      ch28      ch29      ch30      ch31  \n",
            "23   1.000000  1.073828  1.073828  1.151433  1.000000  1.151433  1.073828  \n",
            "18   1.000000  1.073828  1.000000  1.073828  1.000000  1.073828  1.000000  \n",
            "5    1.000000  1.000000  1.073828  1.000000  1.151433  1.073828  1.073828  \n",
            "103  1.000000  1.000000  1.000000  1.000000  1.000000  1.000000  1.000000  \n",
            "142  1.073828  1.073828  1.073828  1.073828  1.000000  1.000000  1.000000  \n",
            "..        ...       ...       ...       ...       ...       ...       ...  \n",
            "71   1.000000  1.000000  1.151433  1.000000  1.000000  1.000000  1.073828  \n",
            "12   1.000000  1.073828  1.073828  1.073828  1.151433  1.073828  1.073828  \n",
            "50   1.000000  1.073828  1.073828  1.000000  1.000000  1.000000  1.073828  \n",
            "7    1.000000  1.073828  1.000000  1.073828  1.000000  1.073828  1.000000  \n",
            "70   1.073828  1.000000  1.000000  1.000000  1.073828  1.000000  1.000000  \n",
            "\n",
            "[160 rows x 32 columns]\n"
          ]
        }
      ]
    },
    {
      "cell_type": "code",
      "source": [
        "if(len(np.unique(test_Y))) == 2:\n",
        "  # if it is binary classification, you will get a precision, recall and f1_score for each of the labels\n",
        "  result = evaluate(X_train, X_test, train_Y, test_Y, agent=solution.best_agent, classifier='knn', save_conf_mat=True)\n",
        "else:  \n",
        "  # for a multi-class problem, you will get a avreaged precision, recall and f1_score\n",
        "  # Options for averaging:\n",
        "  # 1. macro\n",
        "  # 2. weighted\n",
        "  # 3. samples\n",
        "  result = evaluate(X_train, X_test, train_Y, test_Y, agent=solution.best_agent, classifier='knn', save_conf_mat=True, averaging=\"weighted\")"
      ],
      "metadata": {
        "colab": {
          "base_uri": "https://localhost:8080/",
          "height": 350
        },
        "id": "Yo1YPcw2p92x",
        "outputId": "687c1394-4869-4362-f0ac-cdad510f1c6f"
      },
      "execution_count": 92,
      "outputs": [
        {
          "output_type": "stream",
          "name": "stderr",
          "text": [
            "/usr/local/lib/python3.7/dist-packages/sklearn/utils/deprecation.py:87: FutureWarning: Function plot_confusion_matrix is deprecated; Function `plot_confusion_matrix` is deprecated in 1.0 and will be removed in 1.2. Use one of the class methods: ConfusionMatrixDisplay.from_predictions or ConfusionMatrixDisplay.from_estimator.\n",
            "  warnings.warn(msg, category=FutureWarning)\n"
          ]
        },
        {
          "output_type": "display_data",
          "data": {
            "text/plain": [
              "<Figure size 432x288 with 2 Axes>"
            ],
            "image/png": "[encoded data removed]"
          },
          "metadata": {
            "needs_background": "light"
          }
        }
      ]
    },
    {
      "cell_type": "code",
      "source": [
        "result.predictions"
      ],
      "metadata": {
        "colab": {
          "base_uri": "https://localhost:8080/"
        },
        "id": "K3aMQ4F0tdz1",
        "outputId": "fb59ec2d-add9-4b4a-b45e-a1d91381694e"
      },
      "execution_count": 93,
      "outputs": [
        {
          "output_type": "execute_result",
          "data": {
            "text/plain": [
              "array([1, 1, 0, 0, 0, 0, 0, 0, 0, 0, 0, 0, 0, 0, 0, 0, 0, 0, 0, 1, 1, 0,\n",
              "       1, 1, 0, 0, 0, 1, 0, 0, 0, 0])"
            ]
          },
          "metadata": {},
          "execution_count": 93
        }
      ]
    },
    {
      "cell_type": "code",
      "source": [
        "result.accuracy"
      ],
      "metadata": {
        "colab": {
          "base_uri": "https://localhost:8080/"
        },
        "id": "42PjQic7tkY4",
        "outputId": "9e7fc7bf-6ce3-47c2-8fba-91bcaadaf1ce"
      },
      "execution_count": 94,
      "outputs": [
        {
          "output_type": "execute_result",
          "data": {
            "text/plain": [
              "0.5625"
            ]
          },
          "metadata": {},
          "execution_count": 94
        }
      ]
    }
  ]
}