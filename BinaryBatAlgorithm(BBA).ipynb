{
  "nbformat": 4,
  "nbformat_minor": 0,
  "metadata": {
    "colab": {
      "name": "BinaryBatAlgorithm(BBA).ipynb",
      "provenance": [],
      "authorship_tag": "ABX9TyNvQebyFU2cYFmhC/p7xyZK",
      "include_colab_link": true
    },
    "kernelspec": {
      "name": "python3",
      "display_name": "Python 3"
    },
    "language_info": {
      "name": "python"
    }
  },
  "cells": [
    {
      "cell_type": "markdown",
      "metadata": {
        "id": "view-in-github",
        "colab_type": "text"
      },
      "source": [
        "<a href=\"https://colab.research.google.com/github/Namrata-cse/Wrappermethodsin-FS/blob/main/BinaryBatAlgorithm(BBA).ipynb\" target=\"_parent\"><img src=\"https://colab.research.google.com/assets/colab-badge.svg\" alt=\"Open In Colab\"/></a>"
      ]
    },
    {
      "cell_type": "code",
      "source": [
        "!pip install -U Py_FS\n",
        "!pip install ReliefF"
      ],
      "metadata": {
        "colab": {
          "base_uri": "https://localhost:8080/"
        },
        "id": "Jc1dyNIemg5x",
        "outputId": "d9284e6f-432e-4676-ce2d-9aa398f9162d"
      },
      "execution_count": 3,
      "outputs": [
        {
          "output_type": "stream",
          "name": "stdout",
          "text": [
            "Collecting Py_FS\n",
            "  Downloading Py_FS-0.0.44-py3-none-any.whl (9.5 MB)\n",
            "\u001b[K     |████████████████████████████████| 9.5 MB 5.4 MB/s \n",
            "\u001b[?25hInstalling collected packages: Py-FS\n",
            "Successfully installed Py-FS-0.0.44\n",
            "Collecting ReliefF\n",
            "  Downloading ReliefF-0.1.2.tar.gz (48 kB)\n",
            "\u001b[K     |████████████████████████████████| 48 kB 2.0 MB/s \n",
            "\u001b[?25hRequirement already satisfied: numpy in /usr/local/lib/python3.7/dist-packages (from ReliefF) (1.21.5)\n",
            "Requirement already satisfied: scipy in /usr/local/lib/python3.7/dist-packages (from ReliefF) (1.4.1)\n",
            "Requirement already satisfied: scikit-learn in /usr/local/lib/python3.7/dist-packages (from ReliefF) (1.0.2)\n",
            "Requirement already satisfied: joblib>=0.11 in /usr/local/lib/python3.7/dist-packages (from scikit-learn->ReliefF) (1.1.0)\n",
            "Requirement already satisfied: threadpoolctl>=2.0.0 in /usr/local/lib/python3.7/dist-packages (from scikit-learn->ReliefF) (3.1.0)\n",
            "Building wheels for collected packages: ReliefF\n",
            "  Building wheel for ReliefF (setup.py) ... \u001b[?25l\u001b[?25hdone\n",
            "  Created wheel for ReliefF: filename=ReliefF-0.1.2-py3-none-any.whl size=6319 sha256=f2c6a72083f8178d5d49b0f628cb04d0050e071b0b71d1517ce8402197ea505b\n",
            "  Stored in directory: /root/.cache/pip/wheels/18/8a/4a/3aada56cb869df4c1b1ed6af509c941a25985d1d1258a2e78c\n",
            "Successfully built ReliefF\n",
            "Installing collected packages: ReliefF\n",
            "Successfully installed ReliefF-0.1.2\n"
          ]
        }
      ]
    },
    {
      "cell_type": "code",
      "execution_count": 4,
      "metadata": {
        "id": "KnoLXFjilw2T"
      },
      "outputs": [],
      "source": [
        "from sklearn import datasets\n",
        "from Py_FS.datasets import get_dataset\n",
        "from sklearn.model_selection import train_test_split\n",
        "import numpy as np\n",
        "\n",
        "from Py_FS.wrapper.nature_inspired.BBA import BBA as FS\n"
      ]
    },
    {
      "cell_type": "code",
      "source": [
        "dataset = get_dataset(\"Arrhythmia\")\n",
        "data = dataset.data\n",
        "target = dataset.target"
      ],
      "metadata": {
        "colab": {
          "base_uri": "https://localhost:8080/"
        },
        "id": "SwlRZv8Umfxh",
        "outputId": "37078345-6d0f-4b3e-e8ea-99d3918a2657"
      },
      "execution_count": 5,
      "outputs": [
        {
          "output_type": "stream",
          "name": "stdout",
          "text": [
            "Requested dataset found and loaded...\n"
          ]
        }
      ]
    },
    {
      "cell_type": "code",
      "source": [
        "solution = FS(num_agents=3, max_iter=20, train_data=data, train_label=target, save_conv_graph=True)"
      ],
      "metadata": {
        "colab": {
          "base_uri": "https://localhost:8080/",
          "height": 1000
        },
        "id": "Hk5_4UNNmDIC",
        "outputId": "c6a79ef4-1073-4c42-9c97-71826dc8125e"
      },
      "execution_count": 6,
      "outputs": [
        {
          "output_type": "stream",
          "name": "stdout",
          "text": [
            "Weight for the classification accuracy [0-1]: 30\n",
            "Enter the percentage of data wanted for valdiation [0, 100]: 20\n",
            "\n",
            "================================================================================\n",
            "                          Iteration - 1\n",
            "================================================================================\n",
            "\n",
            "\n",
            "Number of agents: 3\n",
            "\n",
            "------------- Best Agent ---------------\n",
            "Fitness: 3.425538619087005\n",
            "Number of Features: 128\n",
            "----------------------------------------\n",
            "\n",
            "Bat 1 - Fitness: 3.425538619087005, Number of Features: 128\n",
            "Bat 2 - Fitness: 2.8701406120760993, Number of Features: 129\n",
            "Bat 3 - Fitness: 2.4186852573949356, Number of Features: 131\n",
            "================================================================================\n",
            "\n",
            "\n",
            "================================================================================\n",
            "                          Iteration - 2\n",
            "================================================================================\n",
            "\n",
            "\n",
            "Number of agents: 3\n",
            "\n",
            "------------- Best Agent ---------------\n",
            "Fitness: 5.192563708692742\n",
            "Number of Features: 145\n",
            "----------------------------------------\n",
            "\n",
            "Bat 1 - Fitness: 5.192563708692742, Number of Features: 145\n",
            "Bat 2 - Fitness: 4.049194533065499, Number of Features: 134\n",
            "Bat 3 - Fitness: 3.737366576076253, Number of Features: 131\n",
            "================================================================================\n",
            "\n",
            "\n",
            "================================================================================\n",
            "                          Iteration - 3\n",
            "================================================================================\n",
            "\n",
            "\n",
            "Number of agents: 3\n",
            "\n",
            "------------- Best Agent ---------------\n",
            "Fitness: 4.533223049352085\n",
            "Number of Features: 145\n",
            "----------------------------------------\n",
            "\n",
            "Bat 1 - Fitness: 4.533223049352085, Number of Features: 145\n",
            "Bat 2 - Fitness: 4.447122769703416, Number of Features: 141\n",
            "Bat 3 - Fitness: 4.18571034700067, Number of Features: 148\n",
            "================================================================================\n",
            "\n",
            "\n",
            "================================================================================\n",
            "                          Iteration - 4\n",
            "================================================================================\n",
            "\n",
            "\n",
            "Number of agents: 3\n",
            "\n",
            "------------- Best Agent ---------------\n",
            "Fitness: 4.984678404033243\n",
            "Number of Features: 143\n",
            "----------------------------------------\n",
            "\n",
            "Bat 1 - Fitness: 4.984678404033243, Number of Features: 143\n",
            "Bat 2 - Fitness: 4.6550080743629145, Number of Features: 143\n",
            "Bat 3 - Fitness: 4.117452440033087, Number of Features: 141\n",
            "================================================================================\n",
            "\n",
            "\n",
            "================================================================================\n",
            "                          Iteration - 5\n",
            "================================================================================\n",
            "\n",
            "\n",
            "Number of agents: 3\n",
            "\n",
            "------------- Best Agent ---------------\n",
            "Fitness: 5.4004490133522385\n",
            "Number of Features: 147\n",
            "----------------------------------------\n",
            "\n",
            "Bat 1 - Fitness: 5.4004490133522385, Number of Features: 147\n",
            "Bat 2 - Fitness: 4.221395092362835, Number of Features: 142\n",
            "Bat 3 - Fitness: 3.1105990783410125, Number of Features: 144\n",
            "================================================================================\n",
            "\n",
            "\n",
            "================================================================================\n",
            "                          Iteration - 6\n",
            "================================================================================\n",
            "\n",
            "\n",
            "Number of agents: 3\n",
            "\n",
            "------------- Best Agent ---------------\n",
            "Fitness: 6.819961400606564\n",
            "Number of Features: 167\n",
            "----------------------------------------\n",
            "\n",
            "Bat 1 - Fitness: 6.819961400606564, Number of Features: 167\n",
            "Bat 2 - Fitness: 4.497538303989918, Number of Features: 151\n",
            "Bat 3 - Fitness: 4.375753278979088, Number of Features: 153\n",
            "================================================================================\n",
            "\n",
            "\n",
            "================================================================================\n",
            "                          Iteration - 7\n",
            "================================================================================\n",
            "\n",
            "\n",
            "Number of agents: 3\n",
            "\n",
            "------------- Best Agent ---------------\n",
            "Fitness: 8.052542439639215\n",
            "Number of Features: 163\n",
            "----------------------------------------\n",
            "\n",
            "Bat 1 - Fitness: 8.052542439639215, Number of Features: 163\n",
            "Bat 2 - Fitness: 6.074520461617237, Number of Features: 163\n",
            "Bat 3 - Fitness: 5.329079522627911, Number of Features: 159\n",
            "================================================================================\n",
            "\n",
            "\n",
            "================================================================================\n",
            "                          Iteration - 8\n",
            "================================================================================\n",
            "\n",
            "\n",
            "Number of agents: 3\n",
            "\n",
            "------------- Best Agent ---------------\n",
            "Fitness: 8.762298633266377\n",
            "Number of Features: 173\n",
            "----------------------------------------\n",
            "\n",
            "Bat 1 - Fitness: 8.762298633266377, Number of Features: 173\n",
            "Bat 2 - Fitness: 7.844657134979716, Number of Features: 161\n",
            "Bat 3 - Fitness: 7.514986805309388, Number of Features: 161\n",
            "================================================================================\n",
            "\n",
            "\n",
            "================================================================================\n",
            "                          Iteration - 9\n",
            "================================================================================\n",
            "\n",
            "\n",
            "Number of agents: 3\n",
            "\n",
            "------------- Best Agent ---------------\n",
            "Fitness: 7.895072669266218\n",
            "Number of Features: 171\n",
            "----------------------------------------\n",
            "\n",
            "Bat 1 - Fitness: 7.895072669266218, Number of Features: 171\n",
            "Bat 2 - Fitness: 7.461459687266139, Number of Features: 170\n",
            "Bat 3 - Fitness: 7.2714167552877225, Number of Features: 165\n",
            "================================================================================\n",
            "\n",
            "\n",
            "================================================================================\n",
            "                          Iteration - 10\n",
            "================================================================================\n",
            "\n",
            "\n",
            "Number of agents: 3\n",
            "\n",
            "------------- Best Agent ---------------\n",
            "Fitness: 7.235732009925561\n",
            "Number of Features: 171\n",
            "----------------------------------------\n",
            "\n",
            "Bat 1 - Fitness: 7.235732009925561, Number of Features: 171\n",
            "Bat 2 - Fitness: 6.543818188979479, Number of Features: 158\n",
            "Bat 3 - Fitness: 6.508133443617316, Number of Features: 164\n",
            "================================================================================\n",
            "\n",
            "\n",
            "================================================================================\n",
            "                          Iteration - 11\n",
            "================================================================================\n",
            "\n",
            "\n",
            "Number of agents: 3\n",
            "\n",
            "------------- Best Agent ---------------\n",
            "Fitness: 7.68718736460672\n",
            "Number of Features: 169\n",
            "----------------------------------------\n",
            "\n",
            "Bat 1 - Fitness: 7.68718736460672, Number of Features: 169\n",
            "Bat 2 - Fitness: 7.217889637244475, Number of Features: 174\n",
            "Bat 3 - Fitness: 6.923904052936313, Number of Features: 168\n",
            "================================================================================\n",
            "\n",
            "\n",
            "================================================================================\n",
            "                          Iteration - 12\n",
            "================================================================================\n",
            "\n",
            "\n",
            "Number of agents: 3\n",
            "\n",
            "------------- Best Agent ---------------\n",
            "Fitness: 7.461459687266139\n",
            "Number of Features: 170\n",
            "----------------------------------------\n",
            "\n",
            "Bat 1 - Fitness: 7.461459687266139, Number of Features: 170\n",
            "Bat 2 - Fitness: 6.332821300563236, Number of Features: 175\n",
            "Bat 3 - Fitness: 6.056678088936154, Number of Features: 166\n",
            "================================================================================\n",
            "\n",
            "\n",
            "================================================================================\n",
            "                          Iteration - 13\n",
            "================================================================================\n",
            "\n",
            "\n",
            "Number of agents: 3\n",
            "\n",
            "------------- Best Agent ---------------\n",
            "Fitness: 7.217889637244475\n",
            "Number of Features: 174\n",
            "----------------------------------------\n",
            "\n",
            "Bat 1 - Fitness: 7.217889637244475, Number of Features: 174\n",
            "Bat 2 - Fitness: 6.923904052936313, Number of Features: 168\n",
            "Bat 3 - Fitness: 6.6120760959470655, Number of Features: 165\n",
            "================================================================================\n",
            "\n",
            "\n",
            "================================================================================\n",
            "                          Iteration - 14\n",
            "================================================================================\n",
            "\n",
            "\n",
            "Number of agents: 3\n",
            "\n",
            "------------- Best Agent ---------------\n",
            "Fitness: 8.848398912915044\n",
            "Number of Features: 177\n",
            "----------------------------------------\n",
            "\n",
            "Bat 1 - Fitness: 8.848398912915044, Number of Features: 177\n",
            "Bat 2 - Fitness: 8.067273228563554, Number of Features: 179\n",
            "Bat 3 - Fitness: 7.791130016936467, Number of Features: 170\n",
            "================================================================================\n",
            "\n",
            "\n",
            "================================================================================\n",
            "                          Iteration - 15\n",
            "================================================================================\n",
            "\n",
            "\n",
            "Number of agents: 3\n",
            "\n",
            "------------- Best Agent ---------------\n",
            "Fitness: 7.5475599669148075\n",
            "Number of Features: 174\n",
            "----------------------------------------\n",
            "\n",
            "Bat 1 - Fitness: 7.5475599669148075, Number of Features: 174\n",
            "Bat 2 - Fitness: 7.479302059947221, Number of Features: 167\n",
            "Bat 3 - Fitness: 7.253574382606642, Number of Features: 168\n",
            "================================================================================\n",
            "\n",
            "\n",
            "================================================================================\n",
            "                          Iteration - 16\n",
            "================================================================================\n",
            "\n",
            "\n",
            "Number of agents: 3\n",
            "\n",
            "------------- Best Agent ---------------\n",
            "Fitness: 7.479302059947221\n",
            "Number of Features: 167\n",
            "----------------------------------------\n",
            "\n",
            "Bat 1 - Fitness: 7.479302059947221, Number of Features: 167\n",
            "Bat 2 - Fitness: 7.357517034936391, Number of Features: 169\n",
            "Bat 3 - Fitness: 7.253574382606642, Number of Features: 168\n",
            "================================================================================\n",
            "\n",
            "\n",
            "================================================================================\n",
            "                          Iteration - 17\n",
            "================================================================================\n",
            "\n",
            "\n",
            "Number of agents: 3\n",
            "\n",
            "------------- Best Agent ---------------\n",
            "Fitness: 8.310843278585214\n",
            "Number of Features: 175\n",
            "----------------------------------------\n",
            "\n",
            "Bat 1 - Fitness: 8.310843278585214, Number of Features: 175\n",
            "Bat 2 - Fitness: 7.58324471227697, Number of Features: 168\n",
            "Bat 3 - Fitness: 6.3002481389578175, Number of Features: 162\n",
            "================================================================================\n",
            "\n",
            "\n",
            "================================================================================\n",
            "                          Iteration - 18\n",
            "================================================================================\n",
            "\n",
            "\n",
            "Number of agents: 3\n",
            "\n",
            "------------- Best Agent ---------------\n",
            "Fitness: 7.357517034936391\n",
            "Number of Features: 169\n",
            "----------------------------------------\n",
            "\n",
            "Bat 1 - Fitness: 7.357517034936391, Number of Features: 169\n",
            "Bat 2 - Fitness: 7.113946984914728, Number of Features: 173\n",
            "Bat 3 - Fitness: 6.5259758162983985, Number of Features: 161\n",
            "================================================================================\n",
            "\n",
            "\n",
            "================================================================================\n",
            "                          Iteration - 19\n",
            "================================================================================\n",
            "\n",
            "\n",
            "Number of agents: 3\n",
            "\n",
            "------------- Best Agent ---------------\n",
            "Fitness: 7.68718736460672\n",
            "Number of Features: 169\n",
            "----------------------------------------\n",
            "\n",
            "Bat 1 - Fitness: 7.68718736460672, Number of Features: 169\n",
            "Bat 2 - Fitness: 7.235732009925561, Number of Features: 171\n",
            "Bat 3 - Fitness: 7.149631730276893, Number of Features: 167\n",
            "================================================================================\n",
            "\n",
            "\n",
            "================================================================================\n",
            "                          Iteration - 20\n",
            "================================================================================\n",
            "\n",
            "\n",
            "Number of agents: 3\n",
            "\n",
            "------------- Best Agent ---------------\n",
            "Fitness: 8.016857694277052\n",
            "Number of Features: 169\n",
            "----------------------------------------\n",
            "\n",
            "Bat 1 - Fitness: 8.016857694277052, Number of Features: 169\n",
            "Bat 2 - Fitness: 7.56540233959589, Number of Features: 171\n",
            "Bat 3 - Fitness: 6.5259758162983985, Number of Features: 161\n",
            "================================================================================\n",
            "\n",
            "\n",
            "================================================================================\n",
            "                                    Final Result                                  \n",
            "================================================================================\n",
            "\n",
            "Leader Bat Dimension : 167\n",
            "Leader Bat Fitness : 8.848398912915044\n",
            "Leader Bat Classification Accuracy : 0.6373626373626373\n",
            "\n",
            "================================================================================\n",
            "\n"
          ]
        },
        {
          "output_type": "display_data",
          "data": {
            "text/plain": [
              "<Figure size 432x288 with 1 Axes>"
            ],
            "image/png": "[encoded data removed]"
          },
          "metadata": {
            "needs_background": "light"
          }
        }
      ]
    },
    {
      "cell_type": "code",
      "source": [
        "solution.best_agent"
      ],
      "metadata": {
        "colab": {
          "base_uri": "https://localhost:8080/"
        },
        "id": "TjSHFFRHRx5Z",
        "outputId": "e80cb63a-b875-4f94-d188-5875cd2ce3d2"
      },
      "execution_count": 7,
      "outputs": [
        {
          "output_type": "execute_result",
          "data": {
            "text/plain": [
              "array([0., 1., 1., 0., 1., 1., 1., 0., 1., 1., 1., 0., 1., 1., 0., 1., 1.,\n",
              "       0., 1., 1., 1., 1., 0., 1., 1., 0., 1., 0., 1., 1., 1., 0., 0., 0.,\n",
              "       1., 1., 0., 0., 1., 0., 1., 1., 1., 1., 1., 1., 1., 1., 0., 0., 1.,\n",
              "       1., 1., 1., 1., 1., 0., 1., 1., 0., 1., 0., 0., 0., 1., 1., 1., 1.,\n",
              "       1., 0., 1., 0., 0., 1., 1., 1., 1., 0., 0., 0., 0., 1., 1., 1., 1.,\n",
              "       1., 1., 0., 0., 1., 1., 1., 1., 1., 0., 1., 1., 0., 1., 1., 0., 0.,\n",
              "       0., 0., 1., 1., 1., 0., 1., 1., 0., 1., 1., 0., 1., 1., 0., 1., 1.,\n",
              "       1., 0., 1., 0., 1., 1., 0., 1., 0., 1., 1., 1., 1., 1., 0., 1., 1.,\n",
              "       0., 0., 0., 0., 0., 0., 1., 1., 0., 0., 1., 0., 1., 0., 0., 0., 0.,\n",
              "       0., 1., 1., 1., 1., 0., 0., 0., 1., 1., 1., 1., 1., 1., 1., 0., 0.,\n",
              "       1., 0., 1., 0., 0., 1., 1., 0., 1., 1., 1., 0., 0., 1., 1., 0., 1.,\n",
              "       1., 1., 0., 1., 0., 1., 0., 0., 1., 0., 1., 0., 1., 0., 1., 0., 1.,\n",
              "       1., 0., 1., 0., 1., 0., 1., 1., 1., 0., 1., 1., 1., 1., 1., 0., 1.,\n",
              "       1., 1., 1., 0., 0., 0., 1., 1., 1., 0., 0., 1., 1., 0., 1., 0., 1.,\n",
              "       0., 0., 0., 0., 1., 0., 1., 1., 0., 0., 1., 1., 1., 0., 1., 1., 1.,\n",
              "       1., 0., 1., 0., 0., 1., 1., 0., 0., 1., 1., 0., 1., 0., 0., 1., 0.,\n",
              "       0., 1., 1., 1., 0., 0., 1.])"
            ]
          },
          "metadata": {},
          "execution_count": 7
        }
      ]
    },
    {
      "cell_type": "code",
      "source": [
        "solution.best_fitness"
      ],
      "metadata": {
        "colab": {
          "base_uri": "https://localhost:8080/"
        },
        "id": "NJsXX2B_RyfQ",
        "outputId": "ac708ec1-e012-4545-af96-c51de0aae019"
      },
      "execution_count": 8,
      "outputs": [
        {
          "output_type": "execute_result",
          "data": {
            "text/plain": [
              "8.848398912915044"
            ]
          },
          "metadata": {},
          "execution_count": 8
        }
      ]
    },
    {
      "cell_type": "code",
      "source": [
        "solution.best_accuracy"
      ],
      "metadata": {
        "colab": {
          "base_uri": "https://localhost:8080/"
        },
        "id": "RsfHmijvSTGI",
        "outputId": "7a6d931a-f251-42ed-8883-43475bfc1402"
      },
      "execution_count": 9,
      "outputs": [
        {
          "output_type": "execute_result",
          "data": {
            "text/plain": [
              "0.6373626373626373"
            ]
          },
          "metadata": {},
          "execution_count": 9
        }
      ]
    },
    {
      "cell_type": "code",
      "source": [
        "solution.final_fitness"
      ],
      "metadata": {
        "colab": {
          "base_uri": "https://localhost:8080/"
        },
        "id": "yVChZjyaSZcr",
        "outputId": "b1e2b514-2616-403e-8792-d18c2b246070"
      },
      "execution_count": 10,
      "outputs": [
        {
          "output_type": "execute_result",
          "data": {
            "text/plain": [
              "array([8.01685769, 7.56540234, 6.52597582])"
            ]
          },
          "metadata": {},
          "execution_count": 10
        }
      ]
    }
  ]
}